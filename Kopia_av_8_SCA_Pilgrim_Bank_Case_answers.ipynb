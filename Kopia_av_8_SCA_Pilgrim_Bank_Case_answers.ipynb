{
  "nbformat": 4,
  "nbformat_minor": 0,
  "metadata": {
    "colab": {
      "provenance": [],
      "include_colab_link": true
    },
    "kernelspec": {
      "name": "python3",
      "display_name": "Python 3"
    },
    "language_info": {
      "name": "python"
    }
  },
  "cells": [
    {
      "cell_type": "markdown",
      "metadata": {
        "id": "view-in-github",
        "colab_type": "text"
      },
      "source": [
        "<a href=\"https://colab.research.google.com/github/MarSchw1/lab1_template/blob/main/Kopia_av_8_SCA_Pilgrim_Bank_Case_answers.ipynb\" target=\"_parent\"><img src=\"https://colab.research.google.com/assets/colab-badge.svg\" alt=\"Open In Colab\"/></a>"
      ]
    },
    {
      "cell_type": "markdown",
      "source": [
        "# **Pilgrim bank: Customer profitability**"
      ],
      "metadata": {
        "id": "FXYAo7FdY7Eg"
      }
    },
    {
      "cell_type": "markdown",
      "source": [
        "**Business case:**\n",
        "Based on the sample of customer data for 1999:\n",
        "\n",
        "\n",
        "\n",
        "1.   What can Green conclude about average customer profitability for Pilgrim Bank's entire customer population?\n",
        "2.   Is the difference in average profitability between online and offline customers in the sample indicative of a meaningful difference in profitability across these groups for Pilgrim Bank's entire customer population?\n",
        "3.   What role do customer demographics play in analyzing customer profitability for online and offline customers? Hint: when needed, consider the impact of missing data and how to tackle it.\n",
        "\n"
      ],
      "metadata": {
        "id": "oVakPnBZZbgF"
      }
    },
    {
      "cell_type": "code",
      "source": [
        "#Data set exploration\n",
        "import numpy as np\n",
        "import pandas as pd\n",
        "\n",
        "#Data visualization\n",
        "import matplotlib.pyplot as plt\n",
        "import seaborn as sns\n",
        "import statsmodels.api as sm\n",
        "from scipy import stats\n",
        "from statsmodels.formula.api import ols"
      ],
      "metadata": {
        "id": "H6f_h2Xob14b"
      },
      "execution_count": null,
      "outputs": []
    },
    {
      "cell_type": "code",
      "source": [
        "!gdown --id 1hduTxsclHmuqEeqe_lYUDpt1ulBT1tUR"
      ],
      "metadata": {
        "id": "FBUgMCCrbBlX",
        "colab": {
          "base_uri": "https://localhost:8080/"
        },
        "outputId": "15d4cf31-1021-4ee2-908b-ced91acef8f3"
      },
      "execution_count": null,
      "outputs": [
        {
          "output_type": "stream",
          "name": "stdout",
          "text": [
            "/usr/local/lib/python3.10/dist-packages/gdown/__main__.py:132: FutureWarning: Option `--id` was deprecated in version 4.3.1 and will be removed in 5.0. You don't need to pass it anymore to use a file ID.\n",
            "  warnings.warn(\n",
            "Downloading...\n",
            "From: https://drive.google.com/uc?id=1hduTxsclHmuqEeqe_lYUDpt1ulBT1tUR\n",
            "To: /content/Pilgrim_case_data.xlsx\n",
            "100% 1.57M/1.57M [00:00<00:00, 82.7MB/s]\n"
          ]
        }
      ]
    },
    {
      "cell_type": "code",
      "source": [
        "df = pd.read_excel('/content/Pilgrim_case_data.xlsx')"
      ],
      "metadata": {
        "id": "ZFETEVE_dmFl"
      },
      "execution_count": null,
      "outputs": []
    },
    {
      "cell_type": "markdown",
      "source": [
        "###**In general, what is the situation presented in the Pilgrim Bank case?**"
      ],
      "metadata": {
        "id": "ee9A3v4xafXV"
      }
    },
    {
      "cell_type": "markdown",
      "source": [
        "What is Alan Green task?"
      ],
      "metadata": {
        "id": "KIBzJjWQatWS"
      }
    },
    {
      "cell_type": "code",
      "source": [
        "df"
      ],
      "metadata": {
        "id": "EpyomoBBiKWI",
        "colab": {
          "base_uri": "https://localhost:8080/",
          "height": 423
        },
        "outputId": "f49b45ab-9e58-4fd4-a2b6-387f2be902c6"
      },
      "execution_count": null,
      "outputs": [
        {
          "output_type": "execute_result",
          "data": {
            "text/plain": [
              "          ID  9Profit  9Online  9Age  9Inc  9Tenure  9District  0Profit  \\\n",
              "0          1       21        0   NaN   NaN     6.33       1200      NaN   \n",
              "1          2       -6        0   6.0   3.0    29.50       1200    -32.0   \n",
              "2          3      -49        1   5.0   5.0    26.41       1100    -22.0   \n",
              "3          4       -4        0   NaN   NaN     2.25       1200      NaN   \n",
              "4          5      -61        0   2.0   9.0     9.91       1200     -4.0   \n",
              "...      ...      ...      ...   ...   ...      ...        ...      ...   \n",
              "31629  31630      -50        0   5.0   5.0     3.75       1200      1.0   \n",
              "31630  31631      458        0   3.0   8.0    12.08       1300    423.0   \n",
              "31631  31632      -83        0   6.0   4.0    15.83       1200    -60.0   \n",
              "31632  31633       92        1   1.0   6.0     5.41       1200    170.0   \n",
              "31633  31634      124        0   3.0   6.0    17.50       1300    150.0   \n",
              "\n",
              "       0Online  9Billpay  0Billpay  \n",
              "0          NaN         0       NaN  \n",
              "1          0.0         0       0.0  \n",
              "2          1.0         0       0.0  \n",
              "3          NaN         0       NaN  \n",
              "4          0.0         0       0.0  \n",
              "...        ...       ...       ...  \n",
              "31629      0.0         0       0.0  \n",
              "31630      1.0         0       0.0  \n",
              "31631      0.0         0       0.0  \n",
              "31632      1.0         0       0.0  \n",
              "31633      0.0         0       0.0  \n",
              "\n",
              "[31634 rows x 11 columns]"
            ],
            "text/html": [
              "\n",
              "  <div id=\"df-fe44160f-a939-46d6-99b7-60c8ee1e01a0\" class=\"colab-df-container\">\n",
              "    <div>\n",
              "<style scoped>\n",
              "    .dataframe tbody tr th:only-of-type {\n",
              "        vertical-align: middle;\n",
              "    }\n",
              "\n",
              "    .dataframe tbody tr th {\n",
              "        vertical-align: top;\n",
              "    }\n",
              "\n",
              "    .dataframe thead th {\n",
              "        text-align: right;\n",
              "    }\n",
              "</style>\n",
              "<table border=\"1\" class=\"dataframe\">\n",
              "  <thead>\n",
              "    <tr style=\"text-align: right;\">\n",
              "      <th></th>\n",
              "      <th>ID</th>\n",
              "      <th>9Profit</th>\n",
              "      <th>9Online</th>\n",
              "      <th>9Age</th>\n",
              "      <th>9Inc</th>\n",
              "      <th>9Tenure</th>\n",
              "      <th>9District</th>\n",
              "      <th>0Profit</th>\n",
              "      <th>0Online</th>\n",
              "      <th>9Billpay</th>\n",
              "      <th>0Billpay</th>\n",
              "    </tr>\n",
              "  </thead>\n",
              "  <tbody>\n",
              "    <tr>\n",
              "      <th>0</th>\n",
              "      <td>1</td>\n",
              "      <td>21</td>\n",
              "      <td>0</td>\n",
              "      <td>NaN</td>\n",
              "      <td>NaN</td>\n",
              "      <td>6.33</td>\n",
              "      <td>1200</td>\n",
              "      <td>NaN</td>\n",
              "      <td>NaN</td>\n",
              "      <td>0</td>\n",
              "      <td>NaN</td>\n",
              "    </tr>\n",
              "    <tr>\n",
              "      <th>1</th>\n",
              "      <td>2</td>\n",
              "      <td>-6</td>\n",
              "      <td>0</td>\n",
              "      <td>6.0</td>\n",
              "      <td>3.0</td>\n",
              "      <td>29.50</td>\n",
              "      <td>1200</td>\n",
              "      <td>-32.0</td>\n",
              "      <td>0.0</td>\n",
              "      <td>0</td>\n",
              "      <td>0.0</td>\n",
              "    </tr>\n",
              "    <tr>\n",
              "      <th>2</th>\n",
              "      <td>3</td>\n",
              "      <td>-49</td>\n",
              "      <td>1</td>\n",
              "      <td>5.0</td>\n",
              "      <td>5.0</td>\n",
              "      <td>26.41</td>\n",
              "      <td>1100</td>\n",
              "      <td>-22.0</td>\n",
              "      <td>1.0</td>\n",
              "      <td>0</td>\n",
              "      <td>0.0</td>\n",
              "    </tr>\n",
              "    <tr>\n",
              "      <th>3</th>\n",
              "      <td>4</td>\n",
              "      <td>-4</td>\n",
              "      <td>0</td>\n",
              "      <td>NaN</td>\n",
              "      <td>NaN</td>\n",
              "      <td>2.25</td>\n",
              "      <td>1200</td>\n",
              "      <td>NaN</td>\n",
              "      <td>NaN</td>\n",
              "      <td>0</td>\n",
              "      <td>NaN</td>\n",
              "    </tr>\n",
              "    <tr>\n",
              "      <th>4</th>\n",
              "      <td>5</td>\n",
              "      <td>-61</td>\n",
              "      <td>0</td>\n",
              "      <td>2.0</td>\n",
              "      <td>9.0</td>\n",
              "      <td>9.91</td>\n",
              "      <td>1200</td>\n",
              "      <td>-4.0</td>\n",
              "      <td>0.0</td>\n",
              "      <td>0</td>\n",
              "      <td>0.0</td>\n",
              "    </tr>\n",
              "    <tr>\n",
              "      <th>...</th>\n",
              "      <td>...</td>\n",
              "      <td>...</td>\n",
              "      <td>...</td>\n",
              "      <td>...</td>\n",
              "      <td>...</td>\n",
              "      <td>...</td>\n",
              "      <td>...</td>\n",
              "      <td>...</td>\n",
              "      <td>...</td>\n",
              "      <td>...</td>\n",
              "      <td>...</td>\n",
              "    </tr>\n",
              "    <tr>\n",
              "      <th>31629</th>\n",
              "      <td>31630</td>\n",
              "      <td>-50</td>\n",
              "      <td>0</td>\n",
              "      <td>5.0</td>\n",
              "      <td>5.0</td>\n",
              "      <td>3.75</td>\n",
              "      <td>1200</td>\n",
              "      <td>1.0</td>\n",
              "      <td>0.0</td>\n",
              "      <td>0</td>\n",
              "      <td>0.0</td>\n",
              "    </tr>\n",
              "    <tr>\n",
              "      <th>31630</th>\n",
              "      <td>31631</td>\n",
              "      <td>458</td>\n",
              "      <td>0</td>\n",
              "      <td>3.0</td>\n",
              "      <td>8.0</td>\n",
              "      <td>12.08</td>\n",
              "      <td>1300</td>\n",
              "      <td>423.0</td>\n",
              "      <td>1.0</td>\n",
              "      <td>0</td>\n",
              "      <td>0.0</td>\n",
              "    </tr>\n",
              "    <tr>\n",
              "      <th>31631</th>\n",
              "      <td>31632</td>\n",
              "      <td>-83</td>\n",
              "      <td>0</td>\n",
              "      <td>6.0</td>\n",
              "      <td>4.0</td>\n",
              "      <td>15.83</td>\n",
              "      <td>1200</td>\n",
              "      <td>-60.0</td>\n",
              "      <td>0.0</td>\n",
              "      <td>0</td>\n",
              "      <td>0.0</td>\n",
              "    </tr>\n",
              "    <tr>\n",
              "      <th>31632</th>\n",
              "      <td>31633</td>\n",
              "      <td>92</td>\n",
              "      <td>1</td>\n",
              "      <td>1.0</td>\n",
              "      <td>6.0</td>\n",
              "      <td>5.41</td>\n",
              "      <td>1200</td>\n",
              "      <td>170.0</td>\n",
              "      <td>1.0</td>\n",
              "      <td>0</td>\n",
              "      <td>0.0</td>\n",
              "    </tr>\n",
              "    <tr>\n",
              "      <th>31633</th>\n",
              "      <td>31634</td>\n",
              "      <td>124</td>\n",
              "      <td>0</td>\n",
              "      <td>3.0</td>\n",
              "      <td>6.0</td>\n",
              "      <td>17.50</td>\n",
              "      <td>1300</td>\n",
              "      <td>150.0</td>\n",
              "      <td>0.0</td>\n",
              "      <td>0</td>\n",
              "      <td>0.0</td>\n",
              "    </tr>\n",
              "  </tbody>\n",
              "</table>\n",
              "<p>31634 rows × 11 columns</p>\n",
              "</div>\n",
              "    <div class=\"colab-df-buttons\">\n",
              "\n",
              "  <div class=\"colab-df-container\">\n",
              "    <button class=\"colab-df-convert\" onclick=\"convertToInteractive('df-fe44160f-a939-46d6-99b7-60c8ee1e01a0')\"\n",
              "            title=\"Convert this dataframe to an interactive table.\"\n",
              "            style=\"display:none;\">\n",
              "\n",
              "  <svg xmlns=\"http://www.w3.org/2000/svg\" height=\"24px\" viewBox=\"0 -960 960 960\">\n",
              "    <path d=\"M120-120v-720h720v720H120Zm60-500h600v-160H180v160Zm220 220h160v-160H400v160Zm0 220h160v-160H400v160ZM180-400h160v-160H180v160Zm440 0h160v-160H620v160ZM180-180h160v-160H180v160Zm440 0h160v-160H620v160Z\"/>\n",
              "  </svg>\n",
              "    </button>\n",
              "\n",
              "  <style>\n",
              "    .colab-df-container {\n",
              "      display:flex;\n",
              "      gap: 12px;\n",
              "    }\n",
              "\n",
              "    .colab-df-convert {\n",
              "      background-color: #E8F0FE;\n",
              "      border: none;\n",
              "      border-radius: 50%;\n",
              "      cursor: pointer;\n",
              "      display: none;\n",
              "      fill: #1967D2;\n",
              "      height: 32px;\n",
              "      padding: 0 0 0 0;\n",
              "      width: 32px;\n",
              "    }\n",
              "\n",
              "    .colab-df-convert:hover {\n",
              "      background-color: #E2EBFA;\n",
              "      box-shadow: 0px 1px 2px rgba(60, 64, 67, 0.3), 0px 1px 3px 1px rgba(60, 64, 67, 0.15);\n",
              "      fill: #174EA6;\n",
              "    }\n",
              "\n",
              "    .colab-df-buttons div {\n",
              "      margin-bottom: 4px;\n",
              "    }\n",
              "\n",
              "    [theme=dark] .colab-df-convert {\n",
              "      background-color: #3B4455;\n",
              "      fill: #D2E3FC;\n",
              "    }\n",
              "\n",
              "    [theme=dark] .colab-df-convert:hover {\n",
              "      background-color: #434B5C;\n",
              "      box-shadow: 0px 1px 3px 1px rgba(0, 0, 0, 0.15);\n",
              "      filter: drop-shadow(0px 1px 2px rgba(0, 0, 0, 0.3));\n",
              "      fill: #FFFFFF;\n",
              "    }\n",
              "  </style>\n",
              "\n",
              "    <script>\n",
              "      const buttonEl =\n",
              "        document.querySelector('#df-fe44160f-a939-46d6-99b7-60c8ee1e01a0 button.colab-df-convert');\n",
              "      buttonEl.style.display =\n",
              "        google.colab.kernel.accessAllowed ? 'block' : 'none';\n",
              "\n",
              "      async function convertToInteractive(key) {\n",
              "        const element = document.querySelector('#df-fe44160f-a939-46d6-99b7-60c8ee1e01a0');\n",
              "        const dataTable =\n",
              "          await google.colab.kernel.invokeFunction('convertToInteractive',\n",
              "                                                    [key], {});\n",
              "        if (!dataTable) return;\n",
              "\n",
              "        const docLinkHtml = 'Like what you see? Visit the ' +\n",
              "          '<a target=\"_blank\" href=https://colab.research.google.com/notebooks/data_table.ipynb>data table notebook</a>'\n",
              "          + ' to learn more about interactive tables.';\n",
              "        element.innerHTML = '';\n",
              "        dataTable['output_type'] = 'display_data';\n",
              "        await google.colab.output.renderOutput(dataTable, element);\n",
              "        const docLink = document.createElement('div');\n",
              "        docLink.innerHTML = docLinkHtml;\n",
              "        element.appendChild(docLink);\n",
              "      }\n",
              "    </script>\n",
              "  </div>\n",
              "\n",
              "\n",
              "<div id=\"df-1e847de1-2eb6-4142-89f5-7721b541f2f3\">\n",
              "  <button class=\"colab-df-quickchart\" onclick=\"quickchart('df-1e847de1-2eb6-4142-89f5-7721b541f2f3')\"\n",
              "            title=\"Suggest charts\"\n",
              "            style=\"display:none;\">\n",
              "\n",
              "<svg xmlns=\"http://www.w3.org/2000/svg\" height=\"24px\"viewBox=\"0 0 24 24\"\n",
              "     width=\"24px\">\n",
              "    <g>\n",
              "        <path d=\"M19 3H5c-1.1 0-2 .9-2 2v14c0 1.1.9 2 2 2h14c1.1 0 2-.9 2-2V5c0-1.1-.9-2-2-2zM9 17H7v-7h2v7zm4 0h-2V7h2v10zm4 0h-2v-4h2v4z\"/>\n",
              "    </g>\n",
              "</svg>\n",
              "  </button>\n",
              "\n",
              "<style>\n",
              "  .colab-df-quickchart {\n",
              "      --bg-color: #E8F0FE;\n",
              "      --fill-color: #1967D2;\n",
              "      --hover-bg-color: #E2EBFA;\n",
              "      --hover-fill-color: #174EA6;\n",
              "      --disabled-fill-color: #AAA;\n",
              "      --disabled-bg-color: #DDD;\n",
              "  }\n",
              "\n",
              "  [theme=dark] .colab-df-quickchart {\n",
              "      --bg-color: #3B4455;\n",
              "      --fill-color: #D2E3FC;\n",
              "      --hover-bg-color: #434B5C;\n",
              "      --hover-fill-color: #FFFFFF;\n",
              "      --disabled-bg-color: #3B4455;\n",
              "      --disabled-fill-color: #666;\n",
              "  }\n",
              "\n",
              "  .colab-df-quickchart {\n",
              "    background-color: var(--bg-color);\n",
              "    border: none;\n",
              "    border-radius: 50%;\n",
              "    cursor: pointer;\n",
              "    display: none;\n",
              "    fill: var(--fill-color);\n",
              "    height: 32px;\n",
              "    padding: 0;\n",
              "    width: 32px;\n",
              "  }\n",
              "\n",
              "  .colab-df-quickchart:hover {\n",
              "    background-color: var(--hover-bg-color);\n",
              "    box-shadow: 0 1px 2px rgba(60, 64, 67, 0.3), 0 1px 3px 1px rgba(60, 64, 67, 0.15);\n",
              "    fill: var(--button-hover-fill-color);\n",
              "  }\n",
              "\n",
              "  .colab-df-quickchart-complete:disabled,\n",
              "  .colab-df-quickchart-complete:disabled:hover {\n",
              "    background-color: var(--disabled-bg-color);\n",
              "    fill: var(--disabled-fill-color);\n",
              "    box-shadow: none;\n",
              "  }\n",
              "\n",
              "  .colab-df-spinner {\n",
              "    border: 2px solid var(--fill-color);\n",
              "    border-color: transparent;\n",
              "    border-bottom-color: var(--fill-color);\n",
              "    animation:\n",
              "      spin 1s steps(1) infinite;\n",
              "  }\n",
              "\n",
              "  @keyframes spin {\n",
              "    0% {\n",
              "      border-color: transparent;\n",
              "      border-bottom-color: var(--fill-color);\n",
              "      border-left-color: var(--fill-color);\n",
              "    }\n",
              "    20% {\n",
              "      border-color: transparent;\n",
              "      border-left-color: var(--fill-color);\n",
              "      border-top-color: var(--fill-color);\n",
              "    }\n",
              "    30% {\n",
              "      border-color: transparent;\n",
              "      border-left-color: var(--fill-color);\n",
              "      border-top-color: var(--fill-color);\n",
              "      border-right-color: var(--fill-color);\n",
              "    }\n",
              "    40% {\n",
              "      border-color: transparent;\n",
              "      border-right-color: var(--fill-color);\n",
              "      border-top-color: var(--fill-color);\n",
              "    }\n",
              "    60% {\n",
              "      border-color: transparent;\n",
              "      border-right-color: var(--fill-color);\n",
              "    }\n",
              "    80% {\n",
              "      border-color: transparent;\n",
              "      border-right-color: var(--fill-color);\n",
              "      border-bottom-color: var(--fill-color);\n",
              "    }\n",
              "    90% {\n",
              "      border-color: transparent;\n",
              "      border-bottom-color: var(--fill-color);\n",
              "    }\n",
              "  }\n",
              "</style>\n",
              "\n",
              "  <script>\n",
              "    async function quickchart(key) {\n",
              "      const quickchartButtonEl =\n",
              "        document.querySelector('#' + key + ' button');\n",
              "      quickchartButtonEl.disabled = true;  // To prevent multiple clicks.\n",
              "      quickchartButtonEl.classList.add('colab-df-spinner');\n",
              "      try {\n",
              "        const charts = await google.colab.kernel.invokeFunction(\n",
              "            'suggestCharts', [key], {});\n",
              "      } catch (error) {\n",
              "        console.error('Error during call to suggestCharts:', error);\n",
              "      }\n",
              "      quickchartButtonEl.classList.remove('colab-df-spinner');\n",
              "      quickchartButtonEl.classList.add('colab-df-quickchart-complete');\n",
              "    }\n",
              "    (() => {\n",
              "      let quickchartButtonEl =\n",
              "        document.querySelector('#df-1e847de1-2eb6-4142-89f5-7721b541f2f3 button');\n",
              "      quickchartButtonEl.style.display =\n",
              "        google.colab.kernel.accessAllowed ? 'block' : 'none';\n",
              "    })();\n",
              "  </script>\n",
              "</div>\n",
              "    </div>\n",
              "  </div>\n"
            ],
            "application/vnd.google.colaboratory.intrinsic+json": {
              "type": "dataframe",
              "variable_name": "df",
              "summary": "{\n  \"name\": \"df\",\n  \"rows\": 31634,\n  \"fields\": [\n    {\n      \"column\": \"ID\",\n      \"properties\": {\n        \"dtype\": \"number\",\n        \"std\": 9132,\n        \"min\": 1,\n        \"max\": 31634,\n        \"num_unique_values\": 31634,\n        \"samples\": [\n          19775,\n          17860,\n          7221\n        ],\n        \"semantic_type\": \"\",\n        \"description\": \"\"\n      }\n    },\n    {\n      \"column\": \"9Profit\",\n      \"properties\": {\n        \"dtype\": \"number\",\n        \"std\": 272,\n        \"min\": -221,\n        \"max\": 2071,\n        \"num_unique_values\": 1634,\n        \"samples\": [\n          1369,\n          562,\n          38\n        ],\n        \"semantic_type\": \"\",\n        \"description\": \"\"\n      }\n    },\n    {\n      \"column\": \"9Online\",\n      \"properties\": {\n        \"dtype\": \"number\",\n        \"std\": 0,\n        \"min\": 0,\n        \"max\": 1,\n        \"num_unique_values\": 2,\n        \"samples\": [\n          1,\n          0\n        ],\n        \"semantic_type\": \"\",\n        \"description\": \"\"\n      }\n    },\n    {\n      \"column\": \"9Age\",\n      \"properties\": {\n        \"dtype\": \"number\",\n        \"std\": 1.6423162363480237,\n        \"min\": 1.0,\n        \"max\": 7.0,\n        \"num_unique_values\": 7,\n        \"samples\": [\n          6.0,\n          5.0\n        ],\n        \"semantic_type\": \"\",\n        \"description\": \"\"\n      }\n    },\n    {\n      \"column\": \"9Inc\",\n      \"properties\": {\n        \"dtype\": \"number\",\n        \"std\": 2.34688147078197,\n        \"min\": 1.0,\n        \"max\": 9.0,\n        \"num_unique_values\": 9,\n        \"samples\": [\n          4.0,\n          5.0\n        ],\n        \"semantic_type\": \"\",\n        \"description\": \"\"\n      }\n    },\n    {\n      \"column\": \"9Tenure\",\n      \"properties\": {\n        \"dtype\": \"number\",\n        \"std\": 8.453867389421355,\n        \"min\": 0.16,\n        \"max\": 41.16,\n        \"num_unique_values\": 491,\n        \"samples\": [\n          38.75,\n          5.58\n        ],\n        \"semantic_type\": \"\",\n        \"description\": \"\"\n      }\n    },\n    {\n      \"column\": \"9District\",\n      \"properties\": {\n        \"dtype\": \"number\",\n        \"std\": 47,\n        \"min\": 1100,\n        \"max\": 1300,\n        \"num_unique_values\": 3,\n        \"samples\": [\n          1200,\n          1100\n        ],\n        \"semantic_type\": \"\",\n        \"description\": \"\"\n      }\n    },\n    {\n      \"column\": \"0Profit\",\n      \"properties\": {\n        \"dtype\": \"number\",\n        \"std\": 389.994724497903,\n        \"min\": -5643.0,\n        \"max\": 27086.0,\n        \"num_unique_values\": 1766,\n        \"samples\": [\n          1521.0,\n          133.0\n        ],\n        \"semantic_type\": \"\",\n        \"description\": \"\"\n      }\n    },\n    {\n      \"column\": \"0Online\",\n      \"properties\": {\n        \"dtype\": \"number\",\n        \"std\": 0.39923890272351925,\n        \"min\": 0.0,\n        \"max\": 1.0,\n        \"num_unique_values\": 2,\n        \"samples\": [\n          1.0,\n          0.0\n        ],\n        \"semantic_type\": \"\",\n        \"description\": \"\"\n      }\n    },\n    {\n      \"column\": \"9Billpay\",\n      \"properties\": {\n        \"dtype\": \"number\",\n        \"std\": 0,\n        \"min\": 0,\n        \"max\": 1,\n        \"num_unique_values\": 2,\n        \"samples\": [\n          1,\n          0\n        ],\n        \"semantic_type\": \"\",\n        \"description\": \"\"\n      }\n    },\n    {\n      \"column\": \"0Billpay\",\n      \"properties\": {\n        \"dtype\": \"number\",\n        \"std\": 0.17116824015657103,\n        \"min\": 0.0,\n        \"max\": 1.0,\n        \"num_unique_values\": 2,\n        \"samples\": [\n          1.0,\n          0.0\n        ],\n        \"semantic_type\": \"\",\n        \"description\": \"\"\n      }\n    }\n  ]\n}"
            }
          },
          "metadata": {},
          "execution_count": 4
        }
      ]
    },
    {
      "cell_type": "markdown",
      "source": [
        "##**CUSTOMER PROFITABILITY**"
      ],
      "metadata": {
        "id": "6z0Kg1uNa6Ko"
      }
    },
    {
      "cell_type": "markdown",
      "source": [
        "**Why would a bank care about the variation in customer profitability? Are all customers profitable?**"
      ],
      "metadata": {
        "id": "UhW3WnhybCZy"
      }
    },
    {
      "cell_type": "code",
      "source": [
        "df_acum =pd.DataFrame()\n",
        "df_acum['acum_count'] = np.arange(df['ID'].min()/df['ID'].max(),1+df['ID'].min()/df['ID'].max(),df['ID'].min()/df['ID'].max())\n",
        "df_acum['profit'] = sorted(df['9Profit'],reverse=True)/df['9Profit'].sum()\n",
        "df_acum['acum_profit'] = df_acum['profit'].cumsum(axis=0)\n",
        "\n",
        "f, axes = plt.subplots(figsize=(10,6))\n",
        "f.suptitle('Cum_Profit(%) vs. Cum_Count(%)')\n",
        "sns.lineplot( x = df_acum['acum_count'],y=df_acum['acum_profit'], color='red')\n",
        "sns.lineplot(x=df_acum['acum_count'],y=1, color='black')"
      ],
      "metadata": {
        "id": "xQl72n5xhcQd",
        "colab": {
          "base_uri": "https://localhost:8080/",
          "height": 619
        },
        "outputId": "f05e1b83-6f93-4ae8-a63e-54757a5ae9ac"
      },
      "execution_count": null,
      "outputs": [
        {
          "output_type": "execute_result",
          "data": {
            "text/plain": [
              "<Axes: xlabel='acum_count', ylabel='acum_profit'>"
            ]
          },
          "metadata": {},
          "execution_count": 5
        },
        {
          "output_type": "display_data",
          "data": {
            "text/plain": [
              "<Figure size 1000x600 with 1 Axes>"
            ],
            "image/png": "[encoded data removed]"
          },
          "metadata": {}
        }
      ]
    },
    {
      "cell_type": "markdown",
      "source": [
        "**What is the cause of the variation?**"
      ],
      "metadata": {
        "id": "vbnm9MEmgTQr"
      }
    },
    {
      "cell_type": "markdown",
      "source": [
        "\n",
        "\n",
        "*   Balance in deposit account\n",
        "*   Net interest spread\n",
        "*   Fees\n",
        "*   Interest from loans\n",
        "*   (Cost to serve)\n",
        "\n",
        "\n"
      ],
      "metadata": {
        "id": "ypY4i4-Lga-v"
      }
    },
    {
      "cell_type": "code",
      "execution_count": null,
      "metadata": {
        "id": "grhpunpUYKsG",
        "colab": {
          "base_uri": "https://localhost:8080/"
        },
        "outputId": "f5995a5a-d7c1-4d64-898a-91862e7a57b9"
      },
      "outputs": [
        {
          "output_type": "execute_result",
          "data": {
            "text/plain": [
              "count    31634.000000\n",
              "mean       111.502687\n",
              "std        272.839391\n",
              "min       -221.000000\n",
              "25%        -34.000000\n",
              "50%          9.000000\n",
              "75%        164.000000\n",
              "max       2071.000000\n",
              "Name: 9Profit, dtype: float64"
            ]
          },
          "metadata": {},
          "execution_count": 8
        }
      ],
      "source": [
        "df['9Profit'].describe()"
      ]
    },
    {
      "cell_type": "code",
      "source": [
        "fig, ax =plt.subplots(1,2, figsize=(12,8))\n",
        "sns.boxplot(y='9Profit',data=df, ax=ax[0])\n",
        "sns.histplot(y='9Profit',data=df, ax=ax[1])\n",
        "\n",
        "fig.show()"
      ],
      "metadata": {
        "id": "Oa9BJWmQeA-I",
        "colab": {
          "base_uri": "https://localhost:8080/",
          "height": 696
        },
        "outputId": "15cbda0e-32be-4700-a94e-ecad5e8e7dfe"
      },
      "execution_count": null,
      "outputs": [
        {
          "output_type": "display_data",
          "data": {
            "text/plain": [
              "<Figure size 1200x800 with 2 Axes>"
            ],
            "image/png": "[encoded data removed]"
          },
          "metadata": {}
        }
      ]
    },
    {
      "cell_type": "markdown",
      "source": [
        "###**The average profitability of customer**"
      ],
      "metadata": {
        "id": "0cuMz1abvfCn"
      }
    },
    {
      "cell_type": "markdown",
      "source": [
        "\n",
        "\n",
        "*   How big is the sample size that Alan Green is evaluating? - 31 634\n",
        "*   How can we make inferences from this relatively small sample to a population of 5 millions? - We can say something if we assume that the sample is a random sample.\n",
        "\n"
      ],
      "metadata": {
        "id": "0wlDFkmAvuRl"
      }
    },
    {
      "cell_type": "markdown",
      "source": [
        "\n",
        "\n",
        "*   What is the average profit from the sample?\n",
        "*   Can the uncertainty in the sample for saying something about the population be captured? How?\n",
        "\n"
      ],
      "metadata": {
        "id": "dA-yMkWlyaCz"
      }
    },
    {
      "cell_type": "code",
      "source": [
        "df['9Profit'].describe()"
      ],
      "metadata": {
        "id": "7IXmxf0Iyt0-",
        "colab": {
          "base_uri": "https://localhost:8080/"
        },
        "outputId": "7383038d-2110-4393-d8a7-26f98137d2ae"
      },
      "execution_count": null,
      "outputs": [
        {
          "output_type": "execute_result",
          "data": {
            "text/plain": [
              "count    31634.000000\n",
              "mean       111.502687\n",
              "std        272.839391\n",
              "min       -221.000000\n",
              "25%        -34.000000\n",
              "50%          9.000000\n",
              "75%        164.000000\n",
              "max       2071.000000\n",
              "Name: 9Profit, dtype: float64"
            ]
          },
          "metadata": {},
          "execution_count": 10
        }
      ]
    },
    {
      "cell_type": "markdown",
      "source": [
        "\n",
        "\n",
        "*   What does a confidence interval mean?\n",
        "*   Can we ever be 100% certain? Why?\n",
        "*   The distribution is not normal (Gaussian), is it fine to use the confidence limits which are based on Gaussian distribution?\n",
        "\n",
        "\n",
        "\n"
      ],
      "metadata": {
        "id": "InGXYTacy8xF"
      }
    },
    {
      "cell_type": "code",
      "source": [
        "f,ax = plt.subplots(figsize=(10,10))\n",
        "sns.violinplot(df['9Profit'],inner='box',)\n",
        "plt.xlim(-1, 1)"
      ],
      "metadata": {
        "id": "VEtyd0y7fBg9",
        "colab": {
          "base_uri": "https://localhost:8080/",
          "height": 828
        },
        "outputId": "b995d623-ed07-4f85-e0f3-39d2a6f5cf92"
      },
      "execution_count": null,
      "outputs": [
        {
          "output_type": "execute_result",
          "data": {
            "text/plain": [
              "(-1.0, 1.0)"
            ]
          },
          "metadata": {},
          "execution_count": 11
        },
        {
          "output_type": "display_data",
          "data": {
            "text/plain": [
              "<Figure size 1000x1000 with 1 Axes>"
            ],
            "image/png": "[encoded data removed]"
          },
          "metadata": {}
        }
      ]
    },
    {
      "cell_type": "code",
      "source": [
        "print('Sample mean: ',df['9Profit'].mean())\n",
        "print('Sample Std Dev: ',df['9Profit'].std())\n",
        "print('Sample Std Err Mean: ',df['9Profit'].sem())\n",
        "print('Sample Upper 95% Mean: ',max(stats.norm.interval(confidence=0.95, loc=np.mean(df['9Profit']), scale=stats.sem(df['9Profit']))))\n",
        "print('Sample Lower 95% Mean: ',min(stats.norm.interval(confidence=0.95, loc=np.mean(df['9Profit']), scale=stats.sem(df['9Profit']))))\n",
        "print('Sample Size: ',df['9Profit'].count())"
      ],
      "metadata": {
        "id": "eXBD6zbczjeH",
        "colab": {
          "base_uri": "https://localhost:8080/"
        },
        "outputId": "0c4be8a6-3e11-45cd-ce5e-292edcb48c28"
      },
      "execution_count": null,
      "outputs": [
        {
          "output_type": "stream",
          "name": "stdout",
          "text": [
            "Sample mean:  111.50268698236076\n",
            "Sample Std Dev:  272.839391497397\n",
            "Sample Std Err Mean:  1.534016451199508\n",
            "Sample Upper 95% Mean:  114.50930397840374\n",
            "Sample Lower 95% Mean:  108.49606998631778\n",
            "Sample Size:  31634\n"
          ]
        }
      ]
    },
    {
      "cell_type": "markdown",
      "source": [
        "##**Test your knowledge**\n",
        "\n",
        "Which of the following statements best describes the distribution of a sum of two uniform distribution?\n",
        "\n",
        "A.   Uniform distribution\n",
        "\n",
        "B.   Gaussian (normal) distribution\n",
        "\n",
        "C.   Weibull distribution\n",
        "\n",
        "D.   Gamma distribution"
      ],
      "metadata": {
        "id": "QDARRKvU5C7w"
      }
    },
    {
      "cell_type": "markdown",
      "source": [
        "___"
      ],
      "metadata": {
        "id": "JCAAi4lAXps4"
      }
    },
    {
      "cell_type": "markdown",
      "source": [
        "##**Difference in average profitability (Online vs Offline)**"
      ],
      "metadata": {
        "id": "PQjxc1825sDZ"
      }
    },
    {
      "cell_type": "markdown",
      "source": [
        "\n",
        "\n",
        "*   What is the average profitability of online?\n",
        "*   What is the average profitability of offline?\n",
        "*   Is the difference meaningful?\n",
        "\n",
        "\n"
      ],
      "metadata": {
        "id": "_9NxFpr652MV"
      }
    },
    {
      "cell_type": "markdown",
      "source": [
        "*Using t-test*"
      ],
      "metadata": {
        "id": "KlOx-vzz6PM7"
      }
    },
    {
      "cell_type": "code",
      "source": [
        "df_online = df[df['9Online']==1]\n",
        "df_offline = df[df['9Online']==0]"
      ],
      "metadata": {
        "id": "qXom7Pw46xPo"
      },
      "execution_count": null,
      "outputs": []
    },
    {
      "cell_type": "code",
      "source": [
        "df_online.head()"
      ],
      "metadata": {
        "id": "mVN3aywb_XnW"
      },
      "execution_count": null,
      "outputs": []
    },
    {
      "cell_type": "code",
      "source": [
        "df_offline.head()"
      ],
      "metadata": {
        "id": "s2NmBPVwhv4m"
      },
      "execution_count": null,
      "outputs": []
    },
    {
      "cell_type": "code",
      "source": [
        "!pip install researchpy\n",
        "import researchpy as rp"
      ],
      "metadata": {
        "id": "GosHRVwJi_o-"
      },
      "execution_count": null,
      "outputs": []
    },
    {
      "cell_type": "code",
      "source": [
        "import warnings\n",
        "warnings.filterwarnings('ignore')"
      ],
      "metadata": {
        "id": "CQ95t7ITkX4o"
      },
      "execution_count": null,
      "outputs": []
    },
    {
      "cell_type": "code",
      "source": [
        "rp.ttest(group1= df_online['9Profit'], group1_name= \"Online\",\n",
        "         group2= df_offline['9Profit'], group2_name= \"Offline\")"
      ],
      "metadata": {
        "id": "XLbQm0P3jpcz",
        "colab": {
          "base_uri": "https://localhost:8080/"
        },
        "outputId": "f92c57eb-f6f2-494b-c8bc-4583fb7e5232"
      },
      "execution_count": null,
      "outputs": [
        {
          "output_type": "execute_result",
          "data": {
            "text/plain": [
              "(   Variable        N        Mean          SD        SE   95% Conf.    Interval\n",
              " 0    Online   3854.0  116.666840  283.664637  4.569297  107.708369  125.625310\n",
              " 1   Offline  27780.0  110.786249  271.300975  1.627741  107.595797  113.976701\n",
              " 2  combined  31634.0  111.502687  272.839391  1.534016  108.495955  114.509419,\n",
              "                  Independent t-test     results\n",
              " 0  Difference (Online - Offline) =       5.8806\n",
              " 1             Degrees of freedom =   31632.0000\n",
              " 2                              t =       1.2539\n",
              " 3          Two side test p value =       0.2099\n",
              " 4         Difference < 0 p value =       0.8951\n",
              " 5         Difference > 0 p value =       0.1049\n",
              " 6                      Cohen's d =       0.0216\n",
              " 7                      Hedge's g =       0.0216\n",
              " 8                 Glass's delta1 =       0.0207\n",
              " 9               Point-Biserial r =       0.0070)"
            ]
          },
          "metadata": {},
          "execution_count": 16
        }
      ]
    },
    {
      "cell_type": "code",
      "source": [
        "statistic, pvalue = stats.ttest_ind(df_online['9Profit'],df_offline['9Profit'], equal_var=True)\n",
        "print('t-statistic', statistic)\n",
        "print('p-value: ', pvalue)"
      ],
      "metadata": {
        "id": "EiOP0qjP3x9m",
        "colab": {
          "base_uri": "https://localhost:8080/"
        },
        "outputId": "1de38946-754e-4de1-d5c5-52d90b14695e"
      },
      "execution_count": null,
      "outputs": [
        {
          "output_type": "stream",
          "name": "stdout",
          "text": [
            "t-statistic 1.2538994682897255\n",
            "p-value:  0.20988781482156962\n"
          ]
        }
      ]
    },
    {
      "cell_type": "code",
      "source": [
        "df.rename(columns={'9Online':'Online'},inplace=True)\n",
        "df.rename(columns={'9Profit':'Profit'},inplace=True)"
      ],
      "metadata": {
        "id": "OMPmDeJwGWWd"
      },
      "execution_count": null,
      "outputs": []
    },
    {
      "cell_type": "markdown",
      "source": [
        "*Using regression*"
      ],
      "metadata": {
        "id": "vhR3x-JEH7a4"
      }
    },
    {
      "cell_type": "code",
      "source": [
        "df['9District']=df['9District'].astype('str')"
      ],
      "metadata": {
        "id": "xICYdaJPRRmi"
      },
      "execution_count": null,
      "outputs": []
    },
    {
      "cell_type": "code",
      "source": [
        "df.info()"
      ],
      "metadata": {
        "id": "hfKW8mVeR614",
        "colab": {
          "base_uri": "https://localhost:8080/"
        },
        "outputId": "03a4e2e1-dab5-481e-fbbe-11e8581a86c8"
      },
      "execution_count": null,
      "outputs": [
        {
          "output_type": "stream",
          "name": "stdout",
          "text": [
            "<class 'pandas.core.frame.DataFrame'>\n",
            "RangeIndex: 31634 entries, 0 to 31633\n",
            "Data columns (total 11 columns):\n",
            " #   Column     Non-Null Count  Dtype  \n",
            "---  ------     --------------  -----  \n",
            " 0   ID         31634 non-null  int64  \n",
            " 1   Profit     31634 non-null  int64  \n",
            " 2   Online     31634 non-null  int64  \n",
            " 3   9Age       23345 non-null  float64\n",
            " 4   9Inc       23373 non-null  float64\n",
            " 5   9Tenure    31634 non-null  float64\n",
            " 6   9District  31634 non-null  object \n",
            " 7   0Profit    26396 non-null  float64\n",
            " 8   0Online    26415 non-null  float64\n",
            " 9   9Billpay   31634 non-null  int64  \n",
            " 10  0Billpay   26415 non-null  float64\n",
            "dtypes: float64(6), int64(4), object(1)\n",
            "memory usage: 2.7+ MB\n"
          ]
        }
      ]
    },
    {
      "cell_type": "code",
      "source": [
        "model1 = 'Profit ~ Online'\n",
        "lm    = ols(formula = model1, data = df).fit()\n",
        "print(lm.summary())"
      ],
      "metadata": {
        "id": "BHVixEPeHhNO",
        "colab": {
          "base_uri": "https://localhost:8080/"
        },
        "outputId": "bb4de957-043f-462b-a8c1-abbec520dcbf"
      },
      "execution_count": null,
      "outputs": [
        {
          "output_type": "stream",
          "name": "stdout",
          "text": [
            "                            OLS Regression Results                            \n",
            "==============================================================================\n",
            "Dep. Variable:                 Profit   R-squared:                       0.000\n",
            "Model:                            OLS   Adj. R-squared:                  0.000\n",
            "Method:                 Least Squares   F-statistic:                     1.572\n",
            "Date:                Tue, 23 Apr 2024   Prob (F-statistic):              0.210\n",
            "Time:                        14:28:51   Log-Likelihood:            -2.2232e+05\n",
            "No. Observations:               31634   AIC:                         4.446e+05\n",
            "Df Residuals:                   31632   BIC:                         4.447e+05\n",
            "Df Model:                           1                                         \n",
            "Covariance Type:            nonrobust                                         \n",
            "==============================================================================\n",
            "                 coef    std err          t      P>|t|      [0.025      0.975]\n",
            "------------------------------------------------------------------------------\n",
            "Intercept    110.7862      1.637     67.678      0.000     107.578     113.995\n",
            "Online         5.8806      4.690      1.254      0.210      -3.312      15.073\n",
            "==============================================================================\n",
            "Omnibus:                    18552.376   Durbin-Watson:                   1.997\n",
            "Prob(Omnibus):                  0.000   Jarque-Bera (JB):           169948.260\n",
            "Skew:                           2.747   Prob(JB):                         0.00\n",
            "Kurtosis:                      12.937   Cond. No.                         3.11\n",
            "==============================================================================\n",
            "\n",
            "Notes:\n",
            "[1] Standard Errors assume that the covariance matrix of the errors is correctly specified.\n"
          ]
        }
      ]
    },
    {
      "cell_type": "markdown",
      "source": [
        "\n",
        "\n",
        "*   Can we say that online channel has no impact on profitability?\n",
        "\n",
        "We cannot say that wether customers online or not affects the mean but we cannot say that it doesnt affect the mean either. Its inconclusive.  \n"
      ],
      "metadata": {
        "id": "RV5gjEaRJS-F"
      }
    },
    {
      "cell_type": "markdown",
      "source": [
        "##**Absence of evidence ≠ evidence of absence**\n",
        "\n",
        "\n",
        "\n",
        "*   Is there something clouding our view to see the true relationship?\n",
        "*   Is the difference (online vs offline profit) affected by different age, income, tenure, or district?\n",
        "\n",
        "(e.g. younger customers might be more likely both to be online and to be less profitable?)\n",
        "\n",
        "\n"
      ],
      "metadata": {
        "id": "hkFXaWyQJiVE"
      }
    },
    {
      "cell_type": "code",
      "source": [
        "df.columns"
      ],
      "metadata": {
        "id": "yOBYiNRalNIf",
        "colab": {
          "base_uri": "https://localhost:8080/"
        },
        "outputId": "0ff1d7c4-0cf3-40fb-f640-913f3edd2e6c"
      },
      "execution_count": null,
      "outputs": [
        {
          "output_type": "execute_result",
          "data": {
            "text/plain": [
              "Index(['ID', 'Profit', 'Online', '9Age', '9Inc', '9Tenure', '9District',\n",
              "       '0Profit', '0Online', '9Billpay', '0Billpay'],\n",
              "      dtype='object')"
            ]
          },
          "metadata": {},
          "execution_count": 22
        }
      ]
    },
    {
      "cell_type": "code",
      "source": [
        "fig, ax =plt.subplots(2,1, figsize=(12,8))\n",
        "\n",
        "sns.barplot(data=df,x='9Age',y='Profit',ax=ax[1])\n",
        "sns.barplot(data=df,x='9Age',y='Online',ax=ax[0], color='red')\n",
        "\n",
        "fig.show()"
      ],
      "metadata": {
        "id": "-oSdwLi_k9Pp",
        "colab": {
          "base_uri": "https://localhost:8080/",
          "height": 696
        },
        "outputId": "457239bb-b2e0-49d1-903b-1b3caebb11fd"
      },
      "execution_count": null,
      "outputs": [
        {
          "output_type": "display_data",
          "data": {
            "text/plain": [
              "<Figure size 1200x800 with 2 Axes>"
            ],
            "image/png": "[encoded data removed]"
          },
          "metadata": {}
        }
      ]
    },
    {
      "cell_type": "markdown",
      "source": [
        "**Gross effect vs Net effect**\n",
        "\n",
        "If age is controlled for (held constant, fixed), what happens to the difference betweeen online and offline customer profitability?"
      ],
      "metadata": {
        "id": "YBYefNRTKStv"
      }
    },
    {
      "cell_type": "code",
      "source": [
        "df.rename(columns={'9Age':'Age'},inplace=True)"
      ],
      "metadata": {
        "id": "cVdpHd2cKmuM"
      },
      "execution_count": null,
      "outputs": []
    },
    {
      "cell_type": "code",
      "source": [
        "model2 = 'Profit ~ Online + Age'\n",
        "lm    = ols(formula = model2, data = df).fit()\n",
        "print(lm.summary())"
      ],
      "metadata": {
        "id": "tT2O0cIQKSOd",
        "colab": {
          "base_uri": "https://localhost:8080/"
        },
        "outputId": "a14b0b54-129e-47cf-8a75-f4847b56be26"
      },
      "execution_count": null,
      "outputs": [
        {
          "output_type": "stream",
          "name": "stdout",
          "text": [
            "                            OLS Regression Results                            \n",
            "==============================================================================\n",
            "Dep. Variable:                 Profit   R-squared:                       0.022\n",
            "Model:                            OLS   Adj. R-squared:                  0.022\n",
            "Method:                 Least Squares   F-statistic:                     264.9\n",
            "Date:                Tue, 23 Apr 2024   Prob (F-statistic):          1.67e-114\n",
            "Time:                        14:33:31   Log-Likelihood:            -1.6452e+05\n",
            "No. Observations:               23345   AIC:                         3.291e+05\n",
            "Df Residuals:                   23342   BIC:                         3.291e+05\n",
            "Df Model:                           2                                         \n",
            "Covariance Type:            nonrobust                                         \n",
            "==============================================================================\n",
            "                 coef    std err          t      P>|t|      [0.025      0.975]\n",
            "------------------------------------------------------------------------------\n",
            "Intercept     17.0804      5.059      3.376      0.001       7.165      26.996\n",
            "Online        27.1882      5.523      4.923      0.000      16.363      38.013\n",
            "Age           25.8570      1.125     22.992      0.000      23.653      28.061\n",
            "==============================================================================\n",
            "Omnibus:                    12446.568   Durbin-Watson:                   1.990\n",
            "Prob(Omnibus):                  0.000   Jarque-Bera (JB):            94787.476\n",
            "Skew:                           2.494   Prob(JB):                         0.00\n",
            "Kurtosis:                      11.518   Cond. No.                         14.9\n",
            "==============================================================================\n",
            "\n",
            "Notes:\n",
            "[1] Standard Errors assume that the covariance matrix of the errors is correctly specified.\n"
          ]
        }
      ]
    },
    {
      "cell_type": "markdown",
      "source": [
        "Two customers of the same age, one online and the other not, the online customer will represent on average, $27.188 more profit to the bank."
      ],
      "metadata": {
        "id": "YiXvzfsaK1ol"
      }
    },
    {
      "cell_type": "markdown",
      "source": [
        "\n",
        "\n",
        "*   Is there anything about the results that concern you?\n",
        "* How many data points were used to generate the multiple regression results, Profit = f(online, age)?\n",
        "\n"
      ],
      "metadata": {
        "id": "nmR76czDLCU7"
      }
    },
    {
      "cell_type": "markdown",
      "source": [
        "##**Strategy for Managing Missing Data**\n",
        "\n",
        "We lost 8289 observations. If there is missing data for a variable, the default for the program (e.g. JMP) is to drop the customer out of the analysis. Is this OK?\n",
        "\n",
        "A.  Yes\n",
        "\n",
        "B.  No\n",
        "\n",
        "C.  Don't know\n",
        "\n",
        "What if the profitability (as the performance measure) of Group 1 (with age data, n1= 23345) and Group 2 (missing age data, n1= 8289) differ significantly?"
      ],
      "metadata": {
        "id": "1CPcXzjbMPAO"
      }
    },
    {
      "cell_type": "markdown",
      "source": [
        "Let's check if profitability in Group 1 (with age data, n1= 23345) differs from Group 2 (missing age data, n1= 8289).\n",
        "\n",
        "Make a new column AgeExists, it equals 1 if the age exists, otherwise 0 (i.e. missing). Then check with regression method."
      ],
      "metadata": {
        "id": "Y746XotoM4XW"
      }
    },
    {
      "cell_type": "code",
      "source": [
        "import missingno as msno\n",
        "\n",
        "msno.matrix(df.iloc[:,1:],sort=\"descending\",sparkline=False,color=(0.5,0.5,0.5))"
      ],
      "metadata": {
        "id": "X6VpdpdRb3Jf",
        "colab": {
          "base_uri": "https://localhost:8080/",
          "height": 587
        },
        "outputId": "aa2d3f53-bf19-4307-afb6-cb744d108eee"
      },
      "execution_count": null,
      "outputs": [
        {
          "output_type": "execute_result",
          "data": {
            "text/plain": [
              "<Axes: >"
            ]
          },
          "metadata": {},
          "execution_count": 28
        },
        {
          "output_type": "display_data",
          "data": {
            "text/plain": [
              "<Figure size 2500x1000 with 1 Axes>"
            ],
            "image/png": "[encoded data removed]"
          },
          "metadata": {}
        }
      ]
    },
    {
      "cell_type": "code",
      "source": [
        "df['Age'].describe()"
      ],
      "metadata": {
        "id": "FGIdoQe2OZGT",
        "colab": {
          "base_uri": "https://localhost:8080/"
        },
        "outputId": "6a2e5a1b-fdbf-4365-c575-961a300fd7ae"
      },
      "execution_count": null,
      "outputs": [
        {
          "output_type": "execute_result",
          "data": {
            "text/plain": [
              "count    23345.000000\n",
              "mean         4.046048\n",
              "std          1.642316\n",
              "min          1.000000\n",
              "25%          3.000000\n",
              "50%          4.000000\n",
              "75%          5.000000\n",
              "max          7.000000\n",
              "Name: Age, dtype: float64"
            ]
          },
          "metadata": {},
          "execution_count": 29
        }
      ]
    },
    {
      "cell_type": "markdown",
      "source": [
        "###**Missing Values Procedure for the variable \"AGE\"**"
      ],
      "metadata": {
        "id": "FflkBB15uC47"
      }
    },
    {
      "cell_type": "code",
      "source": [
        "df['Age_Exists'] = 1\n",
        "df.loc[pd.isna(df['Age']), 'Age_Exists'] = 0"
      ],
      "metadata": {
        "id": "6svJvTnmNQ37"
      },
      "execution_count": null,
      "outputs": []
    },
    {
      "cell_type": "markdown",
      "source": [
        "\n",
        "\n",
        "*   Based on the regression results, do the missing data introduce bias into the sample?\n",
        "\n"
      ],
      "metadata": {
        "id": "TTkfdukVQK4w"
      }
    },
    {
      "cell_type": "code",
      "source": [
        "model3 = 'Profit ~ Age_Exists'\n",
        "lm    = ols(formula = model3, data = df).fit()\n",
        "print(lm.summary())"
      ],
      "metadata": {
        "id": "3iiSAoL0JZ3c",
        "colab": {
          "base_uri": "https://localhost:8080/"
        },
        "outputId": "3db71ca6-09b0-457f-feff-b59f4f4942b6"
      },
      "execution_count": null,
      "outputs": [
        {
          "output_type": "stream",
          "name": "stdout",
          "text": [
            "                            OLS Regression Results                            \n",
            "==============================================================================\n",
            "Dep. Variable:                 Profit   R-squared:                       0.007\n",
            "Model:                            OLS   Adj. R-squared:                  0.007\n",
            "Method:                 Least Squares   F-statistic:                     225.7\n",
            "Date:                Tue, 23 Apr 2024   Prob (F-statistic):           7.70e-51\n",
            "Time:                        14:41:56   Log-Likelihood:            -2.2221e+05\n",
            "No. Observations:               31634   AIC:                         4.444e+05\n",
            "Df Residuals:                   31632   BIC:                         4.444e+05\n",
            "Df Model:                           1                                         \n",
            "Covariance Type:            nonrobust                                         \n",
            "==============================================================================\n",
            "                 coef    std err          t      P>|t|      [0.025      0.975]\n",
            "------------------------------------------------------------------------------\n",
            "Intercept     72.9625      2.986     24.433      0.000      67.109      78.816\n",
            "Age_Exists    52.2245      3.476     15.024      0.000      45.411      59.038\n",
            "==============================================================================\n",
            "Omnibus:                    18586.168   Durbin-Watson:                   1.996\n",
            "Prob(Omnibus):                  0.000   Jarque-Bera (JB):           172755.410\n",
            "Skew:                           2.747   Prob(JB):                         0.00\n",
            "Kurtosis:                      13.044   Cond. No.                         3.68\n",
            "==============================================================================\n",
            "\n",
            "Notes:\n",
            "[1] Standard Errors assume that the covariance matrix of the errors is correctly specified.\n"
          ]
        }
      ]
    },
    {
      "cell_type": "markdown",
      "source": [
        "\n",
        "\n",
        "*   Is the difference $27.2 in profitability between online and offline customers an overstatement or understatement? - Overestimate\n",
        "\n"
      ],
      "metadata": {
        "id": "plNpGknXQeV7"
      }
    },
    {
      "cell_type": "markdown",
      "source": [
        "Strategy for handling missing data:\n",
        "\n",
        "\n",
        "\n",
        "1.   Replace with Zero\n",
        "2.   Replace with average\n",
        "\n"
      ],
      "metadata": {
        "id": "A1pfnz1dQw0j"
      }
    },
    {
      "cell_type": "code",
      "source": [
        "df['AgeZero'] = df['Age'].fillna(0)"
      ],
      "metadata": {
        "id": "NIC99bEVQbor"
      },
      "execution_count": null,
      "outputs": []
    },
    {
      "cell_type": "code",
      "source": [
        "model4 = 'Profit ~ Online + AgeZero'\n",
        "lm    = ols(formula = model4, data = df).fit()\n",
        "print(lm.summary())"
      ],
      "metadata": {
        "id": "lQuSdm2lRZnU",
        "colab": {
          "base_uri": "https://localhost:8080/"
        },
        "outputId": "22692199-00fa-4696-f2ad-05d43e1c7cc4"
      },
      "execution_count": null,
      "outputs": [
        {
          "output_type": "stream",
          "name": "stdout",
          "text": [
            "                            OLS Regression Results                            \n",
            "==============================================================================\n",
            "Dep. Variable:                 Profit   R-squared:                       0.022\n",
            "Model:                            OLS   Adj. R-squared:                  0.022\n",
            "Method:                 Least Squares   F-statistic:                     349.3\n",
            "Date:                Tue, 23 Apr 2024   Prob (F-statistic):          8.59e-151\n",
            "Time:                        14:51:20   Log-Likelihood:            -2.2197e+05\n",
            "No. Observations:               31634   AIC:                         4.440e+05\n",
            "Df Residuals:                   31631   BIC:                         4.440e+05\n",
            "Df Model:                           2                                         \n",
            "Covariance Type:            nonrobust                                         \n",
            "==============================================================================\n",
            "                 coef    std err          t      P>|t|      [0.025      0.975]\n",
            "------------------------------------------------------------------------------\n",
            "Intercept     57.0311      2.601     21.923      0.000      51.932      62.130\n",
            "Online        13.7925      4.649      2.967      0.003       4.681      22.904\n",
            "AgeZero       17.6803      0.670     26.402      0.000      16.368      18.993\n",
            "==============================================================================\n",
            "Omnibus:                    18491.577   Durbin-Watson:                   1.996\n",
            "Prob(Omnibus):                  0.000   Jarque-Bera (JB):           173288.169\n",
            "Skew:                           2.724   Prob(JB):                         0.00\n",
            "Kurtosis:                      13.089   Cond. No.                         11.9\n",
            "==============================================================================\n",
            "\n",
            "Notes:\n",
            "[1] Standard Errors assume that the covariance matrix of the errors is correctly specified.\n"
          ]
        }
      ]
    },
    {
      "cell_type": "code",
      "source": [
        "df['AgeAvg'] = df['Age'].fillna(df['Age'].mean())"
      ],
      "metadata": {
        "id": "4QdBuJwcRTx-"
      },
      "execution_count": null,
      "outputs": []
    },
    {
      "cell_type": "code",
      "source": [
        "model5 = 'Profit ~ Online + AgeAvg'\n",
        "lm    = ols(formula = model5, data = df).fit()\n",
        "print(lm.summary())"
      ],
      "metadata": {
        "id": "s1eA5IL6RxBn",
        "colab": {
          "base_uri": "https://localhost:8080/"
        },
        "outputId": "2da37264-5fae-44c5-cf10-562f1c038e2f"
      },
      "execution_count": null,
      "outputs": [
        {
          "output_type": "stream",
          "name": "stdout",
          "text": [
            "                            OLS Regression Results                            \n",
            "==============================================================================\n",
            "Dep. Variable:                 Profit   R-squared:                       0.017\n",
            "Model:                            OLS   Adj. R-squared:                  0.017\n",
            "Method:                 Least Squares   F-statistic:                     278.6\n",
            "Date:                Tue, 23 Apr 2024   Prob (F-statistic):          1.13e-120\n",
            "Time:                        14:52:42   Log-Likelihood:            -2.2204e+05\n",
            "No. Observations:               31634   AIC:                         4.441e+05\n",
            "Df Residuals:                   31631   BIC:                         4.441e+05\n",
            "Df Model:                           2                                         \n",
            "Covariance Type:            nonrobust                                         \n",
            "==============================================================================\n",
            "                 coef    std err          t      P>|t|      [0.025      0.975]\n",
            "------------------------------------------------------------------------------\n",
            "Intercept      4.9111      4.776      1.028      0.304      -4.450      14.272\n",
            "Online        22.0049      4.699      4.683      0.000      12.794      31.216\n",
            "AgeAvg        25.6820      1.090     23.572      0.000      23.547      27.818\n",
            "==============================================================================\n",
            "Omnibus:                    18373.229   Durbin-Watson:                   1.998\n",
            "Prob(Omnibus):                  0.000   Jarque-Bera (JB):           168373.856\n",
            "Skew:                           2.711   Prob(JB):                         0.00\n",
            "Kurtosis:                      12.917   Cond. No.                         15.5\n",
            "==============================================================================\n",
            "\n",
            "Notes:\n",
            "[1] Standard Errors assume that the covariance matrix of the errors is correctly specified.\n"
          ]
        }
      ]
    },
    {
      "cell_type": "markdown",
      "source": [
        "We want to remove the effects of missing data without having to drop the data altogether. (Solution: control for whether the data are included or not)."
      ],
      "metadata": {
        "id": "FVEFI2K6R70_"
      }
    },
    {
      "cell_type": "code",
      "source": [
        "model6 = 'Profit ~ Online + AgeAvg + Age_Exists'\n",
        "lm    = ols(formula = model6, data = df).fit()\n",
        "print(lm.summary())"
      ],
      "metadata": {
        "id": "u4J9ahkhR4J5",
        "colab": {
          "base_uri": "https://localhost:8080/"
        },
        "outputId": "486ec85d-1278-4707-9b3d-f156a2f451cb"
      },
      "execution_count": null,
      "outputs": [
        {
          "output_type": "stream",
          "name": "stdout",
          "text": [
            "                            OLS Regression Results                            \n",
            "==============================================================================\n",
            "Dep. Variable:                 Profit   R-squared:                       0.024\n",
            "Model:                            OLS   Adj. R-squared:                  0.024\n",
            "Method:                 Least Squares   F-statistic:                     262.1\n",
            "Date:                Tue, 23 Apr 2024   Prob (F-statistic):          4.76e-168\n",
            "Time:                        14:53:12   Log-Likelihood:            -2.2193e+05\n",
            "No. Observations:               31634   AIC:                         4.439e+05\n",
            "Df Residuals:                   31630   BIC:                         4.439e+05\n",
            "Df Model:                           3                                         \n",
            "Covariance Type:            nonrobust                                         \n",
            "==============================================================================\n",
            "                 coef    std err          t      P>|t|      [0.025      0.975]\n",
            "------------------------------------------------------------------------------\n",
            "Intercept    -32.6628      5.377     -6.074      0.000     -43.203     -22.123\n",
            "Online        19.6488      4.685      4.194      0.000      10.465      28.832\n",
            "AgeAvg        25.6025      1.086     23.582      0.000      23.475      27.731\n",
            "Age_Exists    51.7399      3.448     15.006      0.000      44.982      58.498\n",
            "==============================================================================\n",
            "Omnibus:                    18423.124   Durbin-Watson:                   1.996\n",
            "Prob(Omnibus):                  0.000   Jarque-Bera (JB):           171802.517\n",
            "Skew:                           2.713   Prob(JB):                         0.00\n",
            "Kurtosis:                      13.045   Cond. No.                         17.3\n",
            "==============================================================================\n",
            "\n",
            "Notes:\n",
            "[1] Standard Errors assume that the covariance matrix of the errors is correctly specified.\n"
          ]
        }
      ]
    },
    {
      "cell_type": "code",
      "source": [
        "model7 = 'Profit ~ Online + AgeZero + Age_Exists'\n",
        "lm    = ols(formula = model7, data = df).fit()\n",
        "print(lm.summary())"
      ],
      "metadata": {
        "id": "epwh7GdgSSSf",
        "colab": {
          "base_uri": "https://localhost:8080/"
        },
        "outputId": "fb02cb51-3208-4724-e16e-953f1901f282"
      },
      "execution_count": null,
      "outputs": [
        {
          "output_type": "stream",
          "name": "stdout",
          "text": [
            "                            OLS Regression Results                            \n",
            "==============================================================================\n",
            "Dep. Variable:                 Profit   R-squared:                       0.024\n",
            "Model:                            OLS   Adj. R-squared:                  0.024\n",
            "Method:                 Least Squares   F-statistic:                     262.1\n",
            "Date:                Tue, 23 Apr 2024   Prob (F-statistic):          4.76e-168\n",
            "Time:                        14:53:35   Log-Likelihood:            -2.2193e+05\n",
            "No. Observations:               31634   AIC:                         4.439e+05\n",
            "Df Residuals:                   31630   BIC:                         4.439e+05\n",
            "Df Model:                           3                                         \n",
            "Covariance Type:            nonrobust                                         \n",
            "==============================================================================\n",
            "                 coef    std err          t      P>|t|      [0.025      0.975]\n",
            "------------------------------------------------------------------------------\n",
            "Intercept     70.9263      3.000     23.643      0.000      65.046      76.806\n",
            "Online        19.6488      4.685      4.194      0.000      10.465      28.832\n",
            "AgeZero       25.6025      1.086     23.582      0.000      23.475      27.731\n",
            "Age_Exists   -51.8491      5.598     -9.263      0.000     -62.821     -40.878\n",
            "==============================================================================\n",
            "Omnibus:                    18423.124   Durbin-Watson:                   1.996\n",
            "Prob(Omnibus):                  0.000   Jarque-Bera (JB):           171802.517\n",
            "Skew:                           2.713   Prob(JB):                         0.00\n",
            "Kurtosis:                      13.045   Cond. No.                         15.4\n",
            "==============================================================================\n",
            "\n",
            "Notes:\n",
            "[1] Standard Errors assume that the covariance matrix of the errors is correctly specified.\n"
          ]
        }
      ]
    },
    {
      "cell_type": "markdown",
      "source": [
        "**Let's move to income. What do we find?**"
      ],
      "metadata": {
        "id": "m4OuQlrXSeXD"
      }
    },
    {
      "cell_type": "code",
      "source": [
        "df.rename(columns={'9Inc':'Inc'},inplace=True)"
      ],
      "metadata": {
        "id": "hZbEhRjhSx_Y"
      },
      "execution_count": null,
      "outputs": []
    },
    {
      "cell_type": "code",
      "source": [
        "model8 = 'Profit ~ Online + AgeAvg + Age_Exists + Inc'\n",
        "lm    = ols(formula = model8, data = df).fit()\n",
        "print(lm.summary())"
      ],
      "metadata": {
        "id": "sO3tzvo0SYCw",
        "colab": {
          "base_uri": "https://localhost:8080/"
        },
        "outputId": "063a2eb0-5a06-48d2-ebf4-5d97f815ca52"
      },
      "execution_count": null,
      "outputs": [
        {
          "output_type": "stream",
          "name": "stdout",
          "text": [
            "                            OLS Regression Results                            \n",
            "==============================================================================\n",
            "Dep. Variable:                 Profit   R-squared:                       0.046\n",
            "Model:                            OLS   Adj. R-squared:                  0.045\n",
            "Method:                 Least Squares   F-statistic:                     279.3\n",
            "Date:                Tue, 23 Apr 2024   Prob (F-statistic):          6.17e-235\n",
            "Time:                        14:54:00   Log-Likelihood:            -1.6448e+05\n",
            "No. Observations:               23373   AIC:                         3.290e+05\n",
            "Df Residuals:                   23368   BIC:                         3.290e+05\n",
            "Df Model:                           4                                         \n",
            "Covariance Type:            nonrobust                                         \n",
            "==============================================================================\n",
            "                 coef    std err          t      P>|t|      [0.025      0.975]\n",
            "------------------------------------------------------------------------------\n",
            "Intercept   -125.5405     13.036     -9.631      0.000    -151.091     -99.990\n",
            "Online        16.2625      5.461      2.978      0.003       5.558      26.967\n",
            "AgeAvg        27.1239      1.134     23.918      0.000      24.901      29.347\n",
            "Age_Exists    38.2350     11.808      3.238      0.001      15.091      61.379\n",
            "Inc           18.6076      0.774     24.046      0.000      17.091      20.124\n",
            "==============================================================================\n",
            "Omnibus:                    12303.847   Durbin-Watson:                   1.995\n",
            "Prob(Omnibus):                  0.000   Jarque-Bera (JB):            93572.452\n",
            "Skew:                           2.453   Prob(JB):                         0.00\n",
            "Kurtosis:                      11.486   Cond. No.                         68.1\n",
            "==============================================================================\n",
            "\n",
            "Notes:\n",
            "[1] Standard Errors assume that the covariance matrix of the errors is correctly specified.\n"
          ]
        }
      ]
    },
    {
      "cell_type": "markdown",
      "source": [
        "How many data points were used to generate the multiple regression results, Profit = f(Online, AgeAvg, Age_Exists, Inc)?"
      ],
      "metadata": {
        "id": "7xVs_vUOTNh1"
      }
    },
    {
      "cell_type": "markdown",
      "source": [
        "31634 minus 23373 = **8261 individuals missing!**"
      ],
      "metadata": {
        "id": "cu_UHx3-TE_C"
      }
    },
    {
      "cell_type": "markdown",
      "source": [
        "Based on the regression results, do the missing data introduce bias into the sample?"
      ],
      "metadata": {
        "id": "_AAIQ5H_TiTC"
      }
    },
    {
      "cell_type": "markdown",
      "source": [
        "##**EXERCISE**"
      ],
      "metadata": {
        "id": "WfgPhzXOZzU8"
      }
    },
    {
      "cell_type": "markdown",
      "source": [
        "Implement the same \"Missing values procedure for variable AGE\" but now to the \"INC\" variable, i.e., income. Please build and interpret the following models:\n",
        "\n",
        "\n",
        "\n",
        "*   model9 = 'Profit ~ Income_Exists'\n",
        "*   model10 = 'Profit ~ Online + AgeAvg + Age_Exists + IncomeAvg + Income_Exists'\n",
        "*   model11 = 'Profit ~ Online + AgeAvg + Age_Exists + IncomeZero + Income_Exists'\n",
        "\n"
      ],
      "metadata": {
        "id": "sD9dSrBIt0GI"
      }
    },
    {
      "cell_type": "code",
      "source": [
        "df['Income_Exists'] = 1\n",
        "df.loc[pd.isna(df['Inc']), 'Income_Exists'] = 0"
      ],
      "metadata": {
        "id": "nYF5EgZrTCdg"
      },
      "execution_count": null,
      "outputs": []
    },
    {
      "cell_type": "code",
      "source": [
        "model9 = 'Profit ~ Income_Exists'\n",
        "lm    = ols(formula = model9, data = df).fit()\n",
        "print(lm.summary())"
      ],
      "metadata": {
        "id": "iLkGn9LwUT3j",
        "colab": {
          "base_uri": "https://localhost:8080/"
        },
        "outputId": "c7257721-08db-411e-9cfa-fb068f5b5f8d"
      },
      "execution_count": null,
      "outputs": [
        {
          "output_type": "stream",
          "name": "stdout",
          "text": [
            "                            OLS Regression Results                            \n",
            "==============================================================================\n",
            "Dep. Variable:                 Profit   R-squared:                       0.008\n",
            "Model:                            OLS   Adj. R-squared:                  0.008\n",
            "Method:                 Least Squares   F-statistic:                     243.8\n",
            "Date:                Tue, 23 Apr 2024   Prob (F-statistic):           9.22e-55\n",
            "Time:                        14:55:48   Log-Likelihood:            -2.2220e+05\n",
            "No. Observations:               31634   AIC:                         4.444e+05\n",
            "Df Residuals:                   31632   BIC:                         4.444e+05\n",
            "Df Model:                           1                                         \n",
            "Covariance Type:            nonrobust                                         \n",
            "=================================================================================\n",
            "                    coef    std err          t      P>|t|      [0.025      0.975]\n",
            "---------------------------------------------------------------------------------\n",
            "Intercept        71.3650      2.990     23.865      0.000      65.504      77.226\n",
            "Income_Exists    54.3241      3.479     15.615      0.000      47.505      61.143\n",
            "==============================================================================\n",
            "Omnibus:                    18583.069   Durbin-Watson:                   1.995\n",
            "Prob(Omnibus):                  0.000   Jarque-Bera (JB):           172744.369\n",
            "Skew:                           2.747   Prob(JB):                         0.00\n",
            "Kurtosis:                      13.044   Cond. No.                         3.69\n",
            "==============================================================================\n",
            "\n",
            "Notes:\n",
            "[1] Standard Errors assume that the covariance matrix of the errors is correctly specified.\n"
          ]
        }
      ]
    },
    {
      "cell_type": "markdown",
      "source": [
        "Using similar technique as in age, we have:"
      ],
      "metadata": {
        "id": "Riv3msD9Uegw"
      }
    },
    {
      "cell_type": "code",
      "source": [
        "df['IncomeAvg'] = df['Inc'].fillna(df['Inc'].mean())"
      ],
      "metadata": {
        "id": "eVoh2Ca2Ubu9"
      },
      "execution_count": null,
      "outputs": []
    },
    {
      "cell_type": "code",
      "source": [
        "df['IncomeZero'] = df['Inc'].fillna(0)"
      ],
      "metadata": {
        "id": "6cUGMbNIWWwV"
      },
      "execution_count": null,
      "outputs": []
    },
    {
      "cell_type": "code",
      "source": [
        "model10 = 'Profit ~ Online + AgeAvg + Age_Exists + IncomeAvg + Income_Exists'\n",
        "lm    = ols(formula = model10, data = df).fit()\n",
        "print(lm.summary())"
      ],
      "metadata": {
        "id": "svEoRiCOUyWs",
        "colab": {
          "base_uri": "https://localhost:8080/"
        },
        "outputId": "cae8acd7-694c-4226-e602-5b33c6dbc771"
      },
      "execution_count": null,
      "outputs": [
        {
          "output_type": "stream",
          "name": "stdout",
          "text": [
            "                            OLS Regression Results                            \n",
            "==============================================================================\n",
            "Dep. Variable:                 Profit   R-squared:                       0.044\n",
            "Model:                            OLS   Adj. R-squared:                  0.044\n",
            "Method:                 Least Squares   F-statistic:                     288.7\n",
            "Date:                Tue, 23 Apr 2024   Prob (F-statistic):          3.87e-303\n",
            "Time:                        14:55:58   Log-Likelihood:            -2.2161e+05\n",
            "No. Observations:               31634   AIC:                         4.432e+05\n",
            "Df Residuals:                   31628   BIC:                         4.433e+05\n",
            "Df Model:                           5                                         \n",
            "Covariance Type:            nonrobust                                         \n",
            "=================================================================================\n",
            "                    coef    std err          t      P>|t|      [0.025      0.975]\n",
            "---------------------------------------------------------------------------------\n",
            "Intercept      -140.6572      6.827    -20.604      0.000    -154.038    -127.277\n",
            "Online           11.8670      4.650      2.552      0.011       2.754      20.980\n",
            "AgeAvg           26.8914      1.078     24.941      0.000      24.778      29.005\n",
            "Age_Exists       14.4896      8.272      1.752      0.080      -1.725      30.704\n",
            "IncomeAvg        18.7708      0.748     25.094      0.000      17.305      20.237\n",
            "Income_Exists    38.9133      8.284      4.697      0.000      22.677      55.150\n",
            "==============================================================================\n",
            "Omnibus:                    18259.913   Durbin-Watson:                   1.997\n",
            "Prob(Omnibus):                  0.000   Jarque-Bera (JB):           170196.671\n",
            "Skew:                           2.680   Prob(JB):                         0.00\n",
            "Kurtosis:                      13.019   Cond. No.                         54.6\n",
            "==============================================================================\n",
            "\n",
            "Notes:\n",
            "[1] Standard Errors assume that the covariance matrix of the errors is correctly specified.\n"
          ]
        }
      ]
    },
    {
      "cell_type": "code",
      "source": [
        "model11 = 'Profit ~ Online + AgeAvg + Age_Exists + IncomeZero + Income_Exists'\n",
        "lm    = ols(formula = model11, data = df).fit()\n",
        "print(lm.summary())"
      ],
      "metadata": {
        "id": "5pBTgRjQaI3i",
        "colab": {
          "base_uri": "https://localhost:8080/"
        },
        "outputId": "bc919970-5c84-4c5f-8427-128d15243d97"
      },
      "execution_count": null,
      "outputs": [
        {
          "output_type": "stream",
          "name": "stdout",
          "text": [
            "                            OLS Regression Results                            \n",
            "==============================================================================\n",
            "Dep. Variable:                 Profit   R-squared:                       0.044\n",
            "Model:                            OLS   Adj. R-squared:                  0.044\n",
            "Method:                 Least Squares   F-statistic:                     288.7\n",
            "Date:                Tue, 23 Apr 2024   Prob (F-statistic):          3.87e-303\n",
            "Time:                        14:56:06   Log-Likelihood:            -2.2161e+05\n",
            "No. Observations:               31634   AIC:                         4.432e+05\n",
            "Df Residuals:                   31628   BIC:                         4.433e+05\n",
            "Df Model:                           5                                         \n",
            "Covariance Type:            nonrobust                                         \n",
            "=================================================================================\n",
            "                    coef    std err          t      P>|t|      [0.025      0.975]\n",
            "---------------------------------------------------------------------------------\n",
            "Intercept       -38.1914      5.336     -7.158      0.000     -48.649     -27.733\n",
            "Online           11.8670      4.650      2.552      0.011       2.754      20.980\n",
            "AgeAvg           26.8914      1.078     24.941      0.000      24.778      29.005\n",
            "Age_Exists       14.4896      8.272      1.752      0.080      -1.725      30.704\n",
            "IncomeZero       18.7708      0.748     25.094      0.000      17.305      20.237\n",
            "Income_Exists   -63.5525      9.048     -7.024      0.000     -81.286     -45.819\n",
            "==============================================================================\n",
            "Omnibus:                    18259.913   Durbin-Watson:                   1.997\n",
            "Prob(Omnibus):                  0.000   Jarque-Bera (JB):           170196.671\n",
            "Skew:                           2.680   Prob(JB):                         0.00\n",
            "Kurtosis:                      13.019   Cond. No.                         49.8\n",
            "==============================================================================\n",
            "\n",
            "Notes:\n",
            "[1] Standard Errors assume that the covariance matrix of the errors is correctly specified.\n"
          ]
        }
      ]
    },
    {
      "cell_type": "markdown",
      "source": [
        "\n",
        "\n",
        "---\n",
        "\n",
        "\n",
        "\n",
        "---\n",
        "\n"
      ],
      "metadata": {
        "id": "qzmYg_YsaYRN"
      }
    },
    {
      "cell_type": "markdown",
      "source": [
        "Two customers of the same age and same income, one online and the other not, the online customer, **on average**, is **$11.87** more profitable than the offline one."
      ],
      "metadata": {
        "id": "OCBY8oZzVBQR"
      }
    },
    {
      "cell_type": "markdown",
      "source": [
        "##**Controlling for the remaining demographics**"
      ],
      "metadata": {
        "id": "EUlj44a3VWPT"
      }
    },
    {
      "cell_type": "markdown",
      "source": [
        "What about variation within tenure and geographic region (district)? Note that district is a nominal variable"
      ],
      "metadata": {
        "id": "DzvH4tD4VcIO"
      }
    },
    {
      "cell_type": "code",
      "source": [
        "df.columns"
      ],
      "metadata": {
        "id": "bci0YFg1VxHI",
        "colab": {
          "base_uri": "https://localhost:8080/"
        },
        "outputId": "f0073ec5-b11c-4bad-a8b0-67c08373ef99"
      },
      "execution_count": null,
      "outputs": [
        {
          "output_type": "execute_result",
          "data": {
            "text/plain": [
              "Index(['ID', 'Profit', 'Online', 'Age', 'Inc', '9Tenure', '9District',\n",
              "       '0Profit', '0Online', '9Billpay', '0Billpay', 'Age_Exists', 'AgeZero',\n",
              "       'AgeAvg', 'Income_Exists', 'IncomeAvg', 'IncomeZero'],\n",
              "      dtype='object')"
            ]
          },
          "metadata": {},
          "execution_count": 47
        }
      ]
    },
    {
      "cell_type": "code",
      "source": [
        "df.rename(columns={'9Tenure':'Tenure','9District':'District'},inplace=True)"
      ],
      "metadata": {
        "id": "EBl9ND8EVy4M"
      },
      "execution_count": null,
      "outputs": []
    },
    {
      "cell_type": "code",
      "source": [
        "df.info()"
      ],
      "metadata": {
        "id": "YKb2tU4iSTbq"
      },
      "execution_count": null,
      "outputs": []
    },
    {
      "cell_type": "code",
      "source": [
        "type(df['District'][1])"
      ],
      "metadata": {
        "id": "Bc9oAUWpSKzO",
        "colab": {
          "base_uri": "https://localhost:8080/"
        },
        "outputId": "0eebd477-4c5f-439e-e315-678bd5aad6f5"
      },
      "execution_count": null,
      "outputs": [
        {
          "output_type": "execute_result",
          "data": {
            "text/plain": [
              "str"
            ]
          },
          "metadata": {},
          "execution_count": 49
        }
      ]
    },
    {
      "cell_type": "code",
      "source": [
        "model12 = 'Profit ~ Online + Age_Exists + AgeZero + Income_Exists + IncomeZero + Tenure + C(District, Treatment(reference=2))'\n",
        "lm    = ols(formula = model12, data = df).fit()\n",
        "print(lm.summary())"
      ],
      "metadata": {
        "id": "XhmyMFQSU-Sj",
        "colab": {
          "base_uri": "https://localhost:8080/"
        },
        "outputId": "f3be9c49-5958-421c-9e76-043c2a4ea2bc"
      },
      "execution_count": null,
      "outputs": [
        {
          "output_type": "stream",
          "name": "stdout",
          "text": [
            "                            OLS Regression Results                            \n",
            "==============================================================================\n",
            "Dep. Variable:                 Profit   R-squared:                       0.062\n",
            "Model:                            OLS   Adj. R-squared:                  0.062\n",
            "Method:                 Least Squares   F-statistic:                     262.8\n",
            "Date:                Tue, 23 Apr 2024   Prob (F-statistic):               0.00\n",
            "Time:                        14:56:21   Log-Likelihood:            -2.2130e+05\n",
            "No. Observations:               31634   AIC:                         4.426e+05\n",
            "Df Residuals:                   31625   BIC:                         4.427e+05\n",
            "Df Model:                           8                                         \n",
            "Covariance Type:            nonrobust                                         \n",
            "===============================================================================================================\n",
            "                                                  coef    std err          t      P>|t|      [0.025      0.975]\n",
            "---------------------------------------------------------------------------------------------------------------\n",
            "Intercept                                      23.2098      5.096      4.555      0.000      13.222      33.198\n",
            "C(District, Treatment(reference=2))[T.1100]    -7.9955      6.258     -1.278      0.201     -20.262       4.271\n",
            "C(District, Treatment(reference=2))[T.1200]    13.1986      4.473      2.950      0.003       4.430      21.967\n",
            "Online                                         13.8233      4.609      2.999      0.003       4.789      22.857\n",
            "Age_Exists                                    -63.0567      9.184     -6.866      0.000     -81.058     -45.055\n",
            "AgeZero                                        16.6701      1.148     14.519      0.000      14.420      18.921\n",
            "Income_Exists                                 -57.1191      8.996     -6.350      0.000     -74.751     -39.487\n",
            "IncomeZero                                     16.8530      0.755     22.310      0.000      15.372      18.334\n",
            "Tenure                                          4.7464      0.192     24.742      0.000       4.370       5.122\n",
            "==============================================================================\n",
            "Omnibus:                    18038.879   Durbin-Watson:                   1.997\n",
            "Prob(Omnibus):                  0.000   Jarque-Bera (JB):           168282.481\n",
            "Skew:                           2.636   Prob(JB):                         0.00\n",
            "Kurtosis:                      12.994   Cond. No.                         112.\n",
            "==============================================================================\n",
            "\n",
            "Notes:\n",
            "[1] Standard Errors assume that the covariance matrix of the errors is correctly specified.\n"
          ]
        }
      ]
    },
    {
      "cell_type": "markdown",
      "source": [
        "**Conclusion**\n",
        "Controlling for tenure, age, income and district, Pilgram Bank customers who utilize the online channel are, on average, **$13.82** more profitable than those who are offline."
      ],
      "metadata": {
        "id": "VmWLvJ3oYkUa"
      }
    },
    {
      "cell_type": "markdown",
      "source": [
        "**Implication/policy**\n",
        "The efforts invested for enhancing online usage should not cost more than, on average, $13.82 for each customer"
      ],
      "metadata": {
        "id": "QGHJW2VRY1vz"
      }
    },
    {
      "cell_type": "markdown",
      "source": [
        "##**Cause and effect between online channel use and customer profitability**\n",
        "\n",
        "\n",
        "\n",
        "*   Are more profitable customers attracted to online banking?\n",
        "\n",
        "OR\n",
        "\n",
        "*   Does online banking makes customers more profitable?\n",
        "\n"
      ],
      "metadata": {
        "id": "BpuL4BwHZHTx"
      }
    },
    {
      "cell_type": "markdown",
      "source": [
        "REFLECTIONS\n",
        "\n",
        "\n",
        "\n",
        "*   What lessons have you learnt?\n",
        "\n",
        "*   What left unanswered?\n",
        "\n"
      ],
      "metadata": {
        "id": "1dGPpuPRZdzQ"
      }
    },
    {
      "cell_type": "markdown",
      "source": [
        "___"
      ],
      "metadata": {
        "id": "AhOZxg-2tbbF"
      }
    },
    {
      "cell_type": "markdown",
      "source": [
        "# **Pilgrim Bank's Customer Retention**"
      ],
      "metadata": {
        "id": "wZbDVmCuc9OI"
      }
    },
    {
      "cell_type": "markdown",
      "source": [
        "**QUESTIONS:**\n",
        "\n",
        "\n",
        "**Q1.**  How well does knowing whether a customer used online banking in 1999 predict how profitable that customer will be in 2000?\n",
        "\n",
        "**Q2.**   How well does knowing whether a customer used online banking in 1999 predict whether or not that customer stays with the bank through 2000?\n",
        "\n",
        "**Q3.**  Does knowing the demographics of a customer (e.g. age and/or income) in 1999 help to predict customer profitability and/or retention in 2000?\n",
        "\n"
      ],
      "metadata": {
        "id": "2ve9GhitdyaV"
      }
    },
    {
      "cell_type": "markdown",
      "source": [
        "**Customer profitability in 2000**\n",
        "\n",
        "If we know how profitable a customer is today, why do we need to worry about how profitable they are tomorrow?\n",
        "\n",
        "Is current profitability alone sufficient for decisions made about individual customer relationships?"
      ],
      "metadata": {
        "id": "Oes16fCKehto"
      }
    },
    {
      "cell_type": "markdown",
      "source": [
        "###**How well does knowing whether a customer used online banking in 1999 predict how profitable that customer will be in 2000?**"
      ],
      "metadata": {
        "id": "3Vp-altme6zq"
      }
    },
    {
      "cell_type": "code",
      "source": [
        "df.rename(columns={'0Profit':'Zero_Profit'},inplace=True)"
      ],
      "metadata": {
        "id": "l5CIJRcldGvd"
      },
      "execution_count": null,
      "outputs": []
    },
    {
      "cell_type": "code",
      "source": [
        "model13 = 'Zero_Profit ~ Online'\n",
        "lm    = ols(formula = model13, data = df).fit()\n",
        "print(lm.summary())"
      ],
      "metadata": {
        "id": "i2Wvda1ddWRd",
        "colab": {
          "base_uri": "https://localhost:8080/"
        },
        "outputId": "770bebca-8f45-4f2c-ac1f-86014f1a8a1c"
      },
      "execution_count": null,
      "outputs": [
        {
          "output_type": "stream",
          "name": "stdout",
          "text": [
            "                            OLS Regression Results                            \n",
            "==============================================================================\n",
            "Dep. Variable:            Zero_Profit   R-squared:                       0.000\n",
            "Model:                            OLS   Adj. R-squared:                  0.000\n",
            "Method:                 Least Squares   F-statistic:                     10.45\n",
            "Date:                Tue, 23 Apr 2024   Prob (F-statistic):            0.00123\n",
            "Time:                        14:56:31   Log-Likelihood:            -1.9493e+05\n",
            "No. Observations:               26396   AIC:                         3.899e+05\n",
            "Df Residuals:                   26394   BIC:                         3.899e+05\n",
            "Df Model:                           1                                         \n",
            "Covariance Type:            nonrobust                                         \n",
            "==============================================================================\n",
            "                 coef    std err          t      P>|t|      [0.025      0.975]\n",
            "------------------------------------------------------------------------------\n",
            "Intercept    141.9002      2.565     55.319      0.000     136.872     146.928\n",
            "Online        23.4896      7.267      3.232      0.001       9.246      37.733\n",
            "==============================================================================\n",
            "Omnibus:                    55625.492   Durbin-Watson:                   1.995\n",
            "Prob(Omnibus):                  0.000   Jarque-Bera (JB):       1041611937.783\n",
            "Skew:                          17.655   Prob(JB):                         0.00\n",
            "Kurtosis:                     975.531   Cond. No.                         3.08\n",
            "==============================================================================\n",
            "\n",
            "Notes:\n",
            "[1] Standard Errors assume that the covariance matrix of the errors is correctly specified.\n"
          ]
        }
      ]
    },
    {
      "cell_type": "code",
      "source": [
        "lm.rsquared"
      ],
      "metadata": {
        "id": "QUGeOsdwlS6c",
        "colab": {
          "base_uri": "https://localhost:8080/"
        },
        "outputId": "85a0463e-2c86-4642-f410-806502f75c5f"
      },
      "execution_count": null,
      "outputs": [
        {
          "output_type": "execute_result",
          "data": {
            "text/plain": [
              "0.0003957148218264317"
            ]
          },
          "metadata": {},
          "execution_count": 53
        }
      ]
    },
    {
      "cell_type": "markdown",
      "source": [
        "What do you think of the result?\n",
        "\n",
        "A. Online banking in 1999 can predict customer profitability in 2000 well (*p-value* much smaller than 0.001)\n",
        "\n",
        "B. Online banking in 1999 cannot explain variation in customer profitability in 2000\n",
        "\n",
        "C. Don't know"
      ],
      "metadata": {
        "id": "lw5dIgK4fQOT"
      }
    },
    {
      "cell_type": "markdown",
      "source": [
        "**What are the differences between the following models?**"
      ],
      "metadata": {
        "id": "mZ4Rqz4Kf68C"
      }
    },
    {
      "cell_type": "code",
      "source": [
        "model14 = 'Zero_Profit ~ Online + Age_Exists + AgeZero + Income_Exists + IncomeZero + Tenure + C(District, Treatment(reference=2))'\n",
        "lm    = ols(formula = model14, data = df).fit()\n",
        "print(lm.summary())"
      ],
      "metadata": {
        "id": "vHu-MzE-deDv",
        "colab": {
          "base_uri": "https://localhost:8080/"
        },
        "outputId": "ac207df4-7fed-4afa-a27a-cce5f5c7a3cc"
      },
      "execution_count": null,
      "outputs": [
        {
          "output_type": "stream",
          "name": "stdout",
          "text": [
            "                            OLS Regression Results                            \n",
            "==============================================================================\n",
            "Dep. Variable:            Zero_Profit   R-squared:                       0.034\n",
            "Model:                            OLS   Adj. R-squared:                  0.034\n",
            "Method:                 Least Squares   F-statistic:                     116.8\n",
            "Date:                Tue, 23 Apr 2024   Prob (F-statistic):          6.95e-193\n",
            "Time:                        14:56:43   Log-Likelihood:            -1.9448e+05\n",
            "No. Observations:               26396   AIC:                         3.890e+05\n",
            "Df Residuals:                   26387   BIC:                         3.890e+05\n",
            "Df Model:                           8                                         \n",
            "Covariance Type:            nonrobust                                         \n",
            "===============================================================================================================\n",
            "                                                  coef    std err          t      P>|t|      [0.025      0.975]\n",
            "---------------------------------------------------------------------------------------------------------------\n",
            "Intercept                                      58.7253      8.833      6.649      0.000      41.413      76.038\n",
            "C(District, Treatment(reference=2))[T.1100]   -13.5127     10.034     -1.347      0.178     -33.179       6.154\n",
            "C(District, Treatment(reference=2))[T.1200]    10.9915      7.149      1.538      0.124      -3.020      25.003\n",
            "Online                                         28.5864      7.255      3.940      0.000      14.367      42.806\n",
            "Age_Exists                                    -57.8432     14.395     -4.018      0.000     -86.058     -29.628\n",
            "AgeZero                                        13.4625      1.758      7.657      0.000      10.016      16.909\n",
            "Income_Exists                                 -85.7359     14.098     -6.081      0.000    -113.369     -58.103\n",
            "IncomeZero                                     21.5758      1.148     18.789      0.000      19.325      23.827\n",
            "Tenure                                          4.7547      0.301     15.809      0.000       4.165       5.344\n",
            "==============================================================================\n",
            "Omnibus:                    56323.118   Durbin-Watson:                   1.991\n",
            "Prob(Omnibus):                  0.000   Jarque-Bera (JB):       1148354609.362\n",
            "Skew:                          18.173   Prob(JB):                         0.00\n",
            "Kurtosis:                    1024.174   Cond. No.                         114.\n",
            "==============================================================================\n",
            "\n",
            "Notes:\n",
            "[1] Standard Errors assume that the covariance matrix of the errors is correctly specified.\n"
          ]
        }
      ]
    },
    {
      "cell_type": "code",
      "source": [
        "model15 = 'Profit ~ Online + Age_Exists + AgeZero + Income_Exists + IncomeZero + Tenure + C(District, Treatment(reference=2))'\n",
        "lm    = ols(formula = model15, data = df).fit()\n",
        "print(lm.summary())"
      ],
      "metadata": {
        "id": "eUwr7uftdr7t",
        "colab": {
          "base_uri": "https://localhost:8080/"
        },
        "outputId": "3a5c5b56-d5f4-42a8-9501-3db2e958b4e4"
      },
      "execution_count": null,
      "outputs": [
        {
          "output_type": "stream",
          "name": "stdout",
          "text": [
            "                            OLS Regression Results                            \n",
            "==============================================================================\n",
            "Dep. Variable:                 Profit   R-squared:                       0.062\n",
            "Model:                            OLS   Adj. R-squared:                  0.062\n",
            "Method:                 Least Squares   F-statistic:                     262.8\n",
            "Date:                Tue, 23 Apr 2024   Prob (F-statistic):               0.00\n",
            "Time:                        14:56:48   Log-Likelihood:            -2.2130e+05\n",
            "No. Observations:               31634   AIC:                         4.426e+05\n",
            "Df Residuals:                   31625   BIC:                         4.427e+05\n",
            "Df Model:                           8                                         \n",
            "Covariance Type:            nonrobust                                         \n",
            "===============================================================================================================\n",
            "                                                  coef    std err          t      P>|t|      [0.025      0.975]\n",
            "---------------------------------------------------------------------------------------------------------------\n",
            "Intercept                                      23.2098      5.096      4.555      0.000      13.222      33.198\n",
            "C(District, Treatment(reference=2))[T.1100]    -7.9955      6.258     -1.278      0.201     -20.262       4.271\n",
            "C(District, Treatment(reference=2))[T.1200]    13.1986      4.473      2.950      0.003       4.430      21.967\n",
            "Online                                         13.8233      4.609      2.999      0.003       4.789      22.857\n",
            "Age_Exists                                    -63.0567      9.184     -6.866      0.000     -81.058     -45.055\n",
            "AgeZero                                        16.6701      1.148     14.519      0.000      14.420      18.921\n",
            "Income_Exists                                 -57.1191      8.996     -6.350      0.000     -74.751     -39.487\n",
            "IncomeZero                                     16.8530      0.755     22.310      0.000      15.372      18.334\n",
            "Tenure                                          4.7464      0.192     24.742      0.000       4.370       5.122\n",
            "==============================================================================\n",
            "Omnibus:                    18038.879   Durbin-Watson:                   1.997\n",
            "Prob(Omnibus):                  0.000   Jarque-Bera (JB):           168282.481\n",
            "Skew:                           2.636   Prob(JB):                         0.00\n",
            "Kurtosis:                      12.994   Cond. No.                         112.\n",
            "==============================================================================\n",
            "\n",
            "Notes:\n",
            "[1] Standard Errors assume that the covariance matrix of the errors is correctly specified.\n"
          ]
        }
      ]
    },
    {
      "cell_type": "markdown",
      "source": [
        "Look at the null values. Some have left!"
      ],
      "metadata": {
        "id": "xKCn6F6ag4av"
      }
    },
    {
      "cell_type": "code",
      "source": [
        "df.info()"
      ],
      "metadata": {
        "id": "WlytiLRwd1oa"
      },
      "execution_count": null,
      "outputs": []
    },
    {
      "cell_type": "code",
      "source": [
        "df['Zero_Profit'].isnull().value_counts()"
      ],
      "metadata": {
        "id": "UP3tQLjagXJn"
      },
      "execution_count": null,
      "outputs": []
    },
    {
      "cell_type": "code",
      "source": [
        "msno.matrix(df.iloc[:,1:],sort='descending',sparkline=False,color=(0.5,0.5,0.5))"
      ],
      "metadata": {
        "id": "ViuQspjtoQ6J"
      },
      "execution_count": null,
      "outputs": []
    },
    {
      "cell_type": "markdown",
      "source": [
        "Who are these 5238 customers?\n",
        "\n",
        "What to do with the missing data here?\n",
        "\n",
        "A. Replace missing profit in 2000 with zero\n",
        "\n",
        "B. Replace missing profit in 2000 with mean\n",
        "\n",
        "C. Create a missing indicator variable {0,1}, then use a replacement (e.g. mean or zero) for the missing profit data in 2000\n",
        "\n",
        "D. Do nothing\n",
        "\n",
        "E. Don't know"
      ],
      "metadata": {
        "id": "CaodwBCRichI"
      }
    },
    {
      "cell_type": "markdown",
      "source": [
        "####**Let's look at those who stayed**\n",
        "\n",
        "Is there other factor we are not considering that might help the past predict the present?"
      ],
      "metadata": {
        "id": "IoUYDtVijh_t"
      }
    },
    {
      "cell_type": "code",
      "source": [
        "model16 = 'Zero_Profit ~ Online + Age_Exists + AgeZero + Income_Exists + IncomeZero + Tenure + C(District, Treatment(reference=2))'\n",
        "lm    = ols(formula = model16, data = df).fit()\n",
        "print(lm.summary())"
      ],
      "metadata": {
        "id": "HpWuaGtKhZ4M"
      },
      "execution_count": null,
      "outputs": []
    },
    {
      "cell_type": "code",
      "source": [
        "model17 = 'Zero_Profit ~ Online + Age_Exists + AgeZero + Income_Exists + IncomeZero + Tenure + C(District, Treatment(reference=2)) + Profit'\n",
        "lm    = ols(formula = model17, data = df).fit()\n",
        "print(lm.summary())"
      ],
      "metadata": {
        "id": "9dYkBNipkJNa"
      },
      "execution_count": null,
      "outputs": []
    },
    {
      "cell_type": "markdown",
      "source": [
        "What to do with those variables of which p-values are high?\n",
        "\n",
        "A.  Remove them immediately\n",
        "\n",
        "B.  Keep them\n",
        "\n",
        "C.  Check if removing them affects the R-sq\n",
        "\n",
        "D.  Remove one at a time, while checking the p-values of other variables\n",
        "\n",
        "E.  Don't know"
      ],
      "metadata": {
        "id": "grpFTWT-kXz-"
      }
    },
    {
      "cell_type": "markdown",
      "source": [
        "Is there other factor we are not considering that might help the past predict the present?\n"
      ],
      "metadata": {
        "id": "fSGogyWplOIl"
      }
    },
    {
      "cell_type": "code",
      "source": [
        "model18 = 'Zero_Profit ~ Online + Age_Exists + AgeZero + Income_Exists + IncomeZero + Tenure + C(District, Treatment(reference=2))'\n",
        "lm    = ols(formula = model18, data = df).fit()\n",
        "print(lm.summary())"
      ],
      "metadata": {
        "id": "r5fXbnLwkVZK",
        "colab": {
          "base_uri": "https://localhost:8080/"
        },
        "outputId": "bb2ae62d-43eb-4a71-fc6f-0fba5283a39f"
      },
      "execution_count": null,
      "outputs": [
        {
          "output_type": "stream",
          "name": "stdout",
          "text": [
            "                            OLS Regression Results                            \n",
            "==============================================================================\n",
            "Dep. Variable:            Zero_Profit   R-squared:                       0.034\n",
            "Model:                            OLS   Adj. R-squared:                  0.034\n",
            "Method:                 Least Squares   F-statistic:                     116.8\n",
            "Date:                Tue, 23 Apr 2024   Prob (F-statistic):          6.95e-193\n",
            "Time:                        14:57:16   Log-Likelihood:            -1.9448e+05\n",
            "No. Observations:               26396   AIC:                         3.890e+05\n",
            "Df Residuals:                   26387   BIC:                         3.890e+05\n",
            "Df Model:                           8                                         \n",
            "Covariance Type:            nonrobust                                         \n",
            "===============================================================================================================\n",
            "                                                  coef    std err          t      P>|t|      [0.025      0.975]\n",
            "---------------------------------------------------------------------------------------------------------------\n",
            "Intercept                                      58.7253      8.833      6.649      0.000      41.413      76.038\n",
            "C(District, Treatment(reference=2))[T.1100]   -13.5127     10.034     -1.347      0.178     -33.179       6.154\n",
            "C(District, Treatment(reference=2))[T.1200]    10.9915      7.149      1.538      0.124      -3.020      25.003\n",
            "Online                                         28.5864      7.255      3.940      0.000      14.367      42.806\n",
            "Age_Exists                                    -57.8432     14.395     -4.018      0.000     -86.058     -29.628\n",
            "AgeZero                                        13.4625      1.758      7.657      0.000      10.016      16.909\n",
            "Income_Exists                                 -85.7359     14.098     -6.081      0.000    -113.369     -58.103\n",
            "IncomeZero                                     21.5758      1.148     18.789      0.000      19.325      23.827\n",
            "Tenure                                          4.7547      0.301     15.809      0.000       4.165       5.344\n",
            "==============================================================================\n",
            "Omnibus:                    56323.118   Durbin-Watson:                   1.991\n",
            "Prob(Omnibus):                  0.000   Jarque-Bera (JB):       1148354609.362\n",
            "Skew:                          18.173   Prob(JB):                         0.00\n",
            "Kurtosis:                    1024.174   Cond. No.                         114.\n",
            "==============================================================================\n",
            "\n",
            "Notes:\n",
            "[1] Standard Errors assume that the covariance matrix of the errors is correctly specified.\n"
          ]
        }
      ]
    },
    {
      "cell_type": "code",
      "source": [
        "model19 = 'Zero_Profit ~ Online + Age_Exists + AgeZero + Income_Exists + IncomeZero + Tenure + C(District, Treatment(reference=2)) + Profit'\n",
        "lm    = ols(formula = model19, data = df).fit()\n",
        "print(lm.summary())"
      ],
      "metadata": {
        "id": "ZzsNggcDlhqS",
        "colab": {
          "base_uri": "https://localhost:8080/"
        },
        "outputId": "1095c158-e59d-4fe9-a386-3aa86022e408"
      },
      "execution_count": null,
      "outputs": [
        {
          "output_type": "stream",
          "name": "stdout",
          "text": [
            "                            OLS Regression Results                            \n",
            "==============================================================================\n",
            "Dep. Variable:            Zero_Profit   R-squared:                       0.361\n",
            "Model:                            OLS   Adj. R-squared:                  0.361\n",
            "Method:                 Least Squares   F-statistic:                     1659.\n",
            "Date:                Tue, 23 Apr 2024   Prob (F-statistic):               0.00\n",
            "Time:                        14:57:21   Log-Likelihood:            -1.8902e+05\n",
            "No. Observations:               26396   AIC:                         3.781e+05\n",
            "Df Residuals:                   26386   BIC:                         3.781e+05\n",
            "Df Model:                           9                                         \n",
            "Covariance Type:            nonrobust                                         \n",
            "===============================================================================================================\n",
            "                                                  coef    std err          t      P>|t|      [0.025      0.975]\n",
            "---------------------------------------------------------------------------------------------------------------\n",
            "Intercept                                      35.0702      7.186      4.881      0.000      20.986      49.154\n",
            "C(District, Treatment(reference=2))[T.1100]    -8.0126      8.159     -0.982      0.326     -24.006       7.980\n",
            "C(District, Treatment(reference=2))[T.1200]    -1.5180      5.814     -0.261      0.794     -12.914       9.878\n",
            "Online                                         15.0637      5.901      2.553      0.011       3.498      26.629\n",
            "Age_Exists                                     -2.2988     11.715     -0.196      0.844     -25.262      20.664\n",
            "AgeZero                                        -0.7834      1.435     -0.546      0.585      -3.596       2.029\n",
            "Income_Exists                                 -32.3554     11.474     -2.820      0.005     -54.844      -9.867\n",
            "IncomeZero                                      7.1235      0.942      7.562      0.000       5.277       8.970\n",
            "Tenure                                          0.9222      0.247      3.737      0.000       0.439       1.406\n",
            "Profit                                          0.8254      0.007    116.264      0.000       0.811       0.839\n",
            "==============================================================================\n",
            "Omnibus:                    70154.042   Durbin-Watson:                   2.004\n",
            "Prob(Omnibus):                  0.000   Jarque-Bera (JB):       6089982176.819\n",
            "Skew:                          31.302   Prob(JB):                         0.00\n",
            "Kurtosis:                    2355.290   Cond. No.                     2.37e+03\n",
            "==============================================================================\n",
            "\n",
            "Notes:\n",
            "[1] Standard Errors assume that the covariance matrix of the errors is correctly specified.\n",
            "[2] The condition number is large, 2.37e+03. This might indicate that there are\n",
            "strong multicollinearity or other numerical problems.\n"
          ]
        }
      ]
    },
    {
      "cell_type": "code",
      "source": [
        "model20 = 'Zero_Profit ~ Online + Tenure + Profit'\n",
        "lm    = ols(formula = model20, data = df).fit()\n",
        "print(lm.summary())"
      ],
      "metadata": {
        "id": "miDjf3IclxG4",
        "colab": {
          "base_uri": "https://localhost:8080/"
        },
        "outputId": "63f431dc-af96-4652-9abd-2584cbb0c3ee"
      },
      "execution_count": null,
      "outputs": [
        {
          "output_type": "stream",
          "name": "stdout",
          "text": [
            "                            OLS Regression Results                            \n",
            "==============================================================================\n",
            "Dep. Variable:            Zero_Profit   R-squared:                       0.360\n",
            "Model:                            OLS   Adj. R-squared:                  0.360\n",
            "Method:                 Least Squares   F-statistic:                     4944.\n",
            "Date:                Tue, 23 Apr 2024   Prob (F-statistic):               0.00\n",
            "Time:                        14:57:24   Log-Likelihood:            -1.8905e+05\n",
            "No. Observations:               26396   AIC:                         3.781e+05\n",
            "Df Residuals:                   26392   BIC:                         3.781e+05\n",
            "Df Model:                           3                                         \n",
            "Covariance Type:            nonrobust                                         \n",
            "==============================================================================\n",
            "                 coef    std err          t      P>|t|      [0.025      0.975]\n",
            "------------------------------------------------------------------------------\n",
            "Intercept     32.9563      3.231     10.201      0.000      26.624      39.289\n",
            "Online        19.4383      5.834      3.332      0.001       8.004      30.872\n",
            "Tenure         0.9021      0.229      3.942      0.000       0.454       1.351\n",
            "Profit         0.8326      0.007    118.810      0.000       0.819       0.846\n",
            "==============================================================================\n",
            "Omnibus:                    70090.685   Durbin-Watson:                   2.004\n",
            "Prob(Omnibus):                  0.000   Jarque-Bera (JB):       6048875695.609\n",
            "Skew:                          31.228   Prob(JB):                         0.00\n",
            "Kurtosis:                    2347.336   Cond. No.                         937.\n",
            "==============================================================================\n",
            "\n",
            "Notes:\n",
            "[1] Standard Errors assume that the covariance matrix of the errors is correctly specified.\n"
          ]
        }
      ]
    },
    {
      "cell_type": "markdown",
      "source": [
        "Did the bank actually need to purchase demographic data, which a lot of other banks do?"
      ],
      "metadata": {
        "id": "YcGsYq9pl_66"
      }
    },
    {
      "cell_type": "markdown",
      "source": [
        "###**How well does knowing whether a customer used online banking in 1999 predict whether or not that customer stays with the bank through 2000?**"
      ],
      "metadata": {
        "id": "cAQOkh7vmSXV"
      }
    },
    {
      "cell_type": "markdown",
      "source": [
        "What makes one stay or leave the bank?\n",
        "\n",
        "Can the bank predict it?"
      ],
      "metadata": {
        "id": "2khtOT-6myuv"
      }
    },
    {
      "cell_type": "code",
      "source": [
        "df['Retain'] = np.where(df.Zero_Profit.notnull(),1, 0)"
      ],
      "metadata": {
        "id": "oXxLF92_ntpj"
      },
      "execution_count": null,
      "outputs": []
    },
    {
      "cell_type": "code",
      "source": [
        "df['Retain'].value_counts()"
      ],
      "metadata": {
        "id": "UIhOqGuAn4gf"
      },
      "execution_count": null,
      "outputs": []
    },
    {
      "cell_type": "code",
      "source": [
        "df['Retain'].value_counts(normalize=True).mul(100).round(4).astype(str) + '%'"
      ],
      "metadata": {
        "id": "SYQmbsuRqqz0"
      },
      "execution_count": null,
      "outputs": []
    },
    {
      "cell_type": "code",
      "source": [
        "sns.barplot(x=df['Retain'].unique(),y=df['Retain'].value_counts())"
      ],
      "metadata": {
        "id": "PiMjhAj3JC3f"
      },
      "execution_count": null,
      "outputs": []
    },
    {
      "cell_type": "markdown",
      "source": [
        "**Customer retention using OLS regression**\n",
        "\n",
        "Let's now investigate retention.\n",
        "\n",
        "What is the gross effect of 1999 online use on retention?"
      ],
      "metadata": {
        "id": "DWzKiClWoVwJ"
      }
    },
    {
      "cell_type": "code",
      "source": [
        "model21 = 'Retain ~ Online'\n",
        "lm    = ols(formula = model21, data = df).fit()\n",
        "print(lm.summary())"
      ],
      "metadata": {
        "id": "6XrhULT5oPh-"
      },
      "execution_count": null,
      "outputs": []
    },
    {
      "cell_type": "code",
      "source": [
        "lm.rsquared"
      ],
      "metadata": {
        "id": "qEg7IYPWsF7Z"
      },
      "execution_count": null,
      "outputs": []
    },
    {
      "cell_type": "code",
      "source": [
        "pd.crosstab(df.Online,df.Retain,margins=True)"
      ],
      "metadata": {
        "id": "YCcteZs9sYwM"
      },
      "execution_count": null,
      "outputs": []
    },
    {
      "cell_type": "code",
      "source": [
        "pd.crosstab(df.Online,df.Retain,margins=True,normalize='index')"
      ],
      "metadata": {
        "id": "gGpRo3yupsck"
      },
      "execution_count": null,
      "outputs": []
    },
    {
      "cell_type": "markdown",
      "source": [
        "The gross effect of banking online is an increase of 2.2% in the probability of retention. In other words, banking online in 1999 results in an expected change of 2.2% in 2000 retention rates!"
      ],
      "metadata": {
        "id": "-_a_BvqYsO3h"
      }
    },
    {
      "cell_type": "code",
      "source": [
        "0.85339-0.83178"
      ],
      "metadata": {
        "id": "Q6F8ccbEtV96"
      },
      "execution_count": null,
      "outputs": []
    },
    {
      "cell_type": "code",
      "source": [
        "model22 = 'Retain ~ Online + Tenure + C(District, Treatment(reference=2)) + Age_Exists + AgeZero + Income_Exists + IncomeZero'\n",
        "lm    = ols(formula = model22, data = df).fit()\n",
        "print(lm.summary())"
      ],
      "metadata": {
        "id": "MkWkn41psoId"
      },
      "execution_count": null,
      "outputs": []
    },
    {
      "cell_type": "code",
      "source": [
        "model23 = 'Retain ~ Online + Tenure + C(District, Treatment(reference=2)) + Age_Exists + AgeZero + Income_Exists + IncomeZero + Profit'\n",
        "lm    = ols(formula = model23, data = df).fit()\n",
        "print(lm.summary())"
      ],
      "metadata": {
        "id": "lL2t9ksYqbia"
      },
      "execution_count": null,
      "outputs": []
    },
    {
      "cell_type": "markdown",
      "source": [
        "####**Customer retention using OLS regression**"
      ],
      "metadata": {
        "id": "UZaC1NimKL7L"
      }
    },
    {
      "cell_type": "code",
      "source": [
        "df['Retain_predicted'] = lm.predict(df[['District','Online','Tenure','Age_Exists','AgeZero','Income_Exists','IncomeZero','Profit']])"
      ],
      "metadata": {
        "id": "eH6pi6XVLUC1"
      },
      "execution_count": null,
      "outputs": []
    },
    {
      "cell_type": "code",
      "source": [
        "df['Retain_predicted'].describe()"
      ],
      "metadata": {
        "id": "6QJJx1kNK2IA"
      },
      "execution_count": null,
      "outputs": []
    },
    {
      "cell_type": "code",
      "source": [
        "fig, ax =plt.subplots(1,2, figsize=(12,8))\n",
        "sns.boxplot(y='Retain_predicted',data=df, ax=ax[0])\n",
        "sns.histplot(y='Retain_predicted',data=df, ax=ax[1])\n",
        "\n",
        "fig.show()"
      ],
      "metadata": {
        "id": "dPHOwzeqKVIN"
      },
      "execution_count": null,
      "outputs": []
    },
    {
      "cell_type": "markdown",
      "source": [
        "####**Customer retention using logistics regression**"
      ],
      "metadata": {
        "id": "9nM_7U70txPd"
      }
    },
    {
      "cell_type": "markdown",
      "source": [
        "When the dependent variable (Y) is categorical (including binary), we no longer use OLS regression, but instead logistics regression. The interpretation of the coefficients are NOT the same as in OLS regression.\n",
        "\n",
        "\n",
        "Key concepts: **Odds** and **Odds ratio**.\n",
        "\n",
        "If the probability of winning is 0.8, what are the odds of winning?"
      ],
      "metadata": {
        "id": "QIjC9rKnt4gk"
      }
    },
    {
      "cell_type": "code",
      "source": [
        "import statsmodels.formula.api as smf\n",
        "\n",
        "model24 = 'Retain ~ Online'\n",
        "lm    = smf.logit(formula = model24, data = df).fit()\n",
        "print(lm.summary())"
      ],
      "metadata": {
        "id": "xasBvikQr4LJ"
      },
      "execution_count": null,
      "outputs": []
    },
    {
      "cell_type": "markdown",
      "source": [
        "**The odds**"
      ],
      "metadata": {
        "id": "3GX4dCWhxcnb"
      }
    },
    {
      "cell_type": "code",
      "source": [
        "pd.crosstab(df.Online,df.Retain,margins=True)"
      ],
      "metadata": {
        "id": "dNU_WU3OxWhK"
      },
      "execution_count": null,
      "outputs": []
    },
    {
      "cell_type": "code",
      "source": [
        "pd.crosstab(df.Online,df.Retain,margins=True,normalize='index')"
      ],
      "metadata": {
        "id": "j0-y3SMkvXAD"
      },
      "execution_count": null,
      "outputs": []
    },
    {
      "cell_type": "markdown",
      "source": [
        "Odds for online users:\n",
        "\n",
        "*   The odds of an online user to stay with the bank are (3289/565) = 5.82 aprox 6.\n",
        "*   So for every 6 online users who stayed with the bank, there was 1 online user who left the bank. In other words, online users are 6 times more likely to stay with the bank than not.\n",
        "\n",
        "\n",
        "Odds for offline users:\n",
        "\n",
        "*   The odds of an offline user to stay with the bank are (23107/4673) = 4.94 aprox 5.\n",
        "*   So for every 5 offline users who stayed with the bank, there was 1 offline user who left the bank. In other words, offline users are 5 times more likely to stay with the bank than not.\n",
        "\n",
        "What is the odds ratio?\n",
        "\n",
        "\n",
        "*   (5.82/4.94) = 1.18\n",
        "*   The odds of staying with the bank are 1.18 times (or 18%) higher for online users than for offline users.\n",
        "\n",
        "\n",
        "\n",
        "\n",
        "\n"
      ],
      "metadata": {
        "id": "rrWg9nOTxhjF"
      }
    },
    {
      "cell_type": "code",
      "source": [
        "model25 = 'Retain ~ Online + Age_Exists + AgeZero + Income_Exists + IncomeZero  + Tenure + C(District, Treatment(reference=2))  + Profit'\n",
        "lm    = smf.logit(formula = model25, data = df).fit()\n",
        "print(lm.summary())"
      ],
      "metadata": {
        "id": "LDXiCwYnwwp4"
      },
      "execution_count": null,
      "outputs": []
    },
    {
      "cell_type": "code",
      "source": [
        "odds_ratios = pd.DataFrame(\n",
        "    {\n",
        "        \"OR\": lm.params,\n",
        "        \"Lower CI\": lm.conf_int()[0],\n",
        "        \"Upper CI\": lm.conf_int()[1],\n",
        "    }\n",
        ")\n",
        "odds_ratios = np.exp(odds_ratios)\n",
        "print(odds_ratios)"
      ],
      "metadata": {
        "id": "ApIFDzeIzrQN"
      },
      "execution_count": null,
      "outputs": []
    },
    {
      "cell_type": "markdown",
      "source": [
        "\n",
        "**COEFFICIENT INTERPRETATION**\n",
        "\n",
        "*   ONLINE: The odds of retention are 1.11 times higher (or 11% higher) for online than for offline customers, controlling for age, income, tenure, district, and profit in 1999.\n",
        "*   TENURE: The odds of retention are 1.04 times higher for each additional year of tenure, all else being equal.\n",
        "*   DISTRICT: The odds of retention are 1.1 higher for customers who line in District 1200 than for those who live in District 1100, all else being equal.**bold text**\n",
        "\n",
        "\n"
      ],
      "metadata": {
        "id": "LkwTqK4R0Dif"
      }
    },
    {
      "cell_type": "markdown",
      "source": [
        "###**Reflections**\n",
        "\n",
        "What lessons have you learnt?\n",
        "\n",
        "What left unanswered?"
      ],
      "metadata": {
        "id": "1fofHWdmzUeJ"
      }
    }
  ]
}